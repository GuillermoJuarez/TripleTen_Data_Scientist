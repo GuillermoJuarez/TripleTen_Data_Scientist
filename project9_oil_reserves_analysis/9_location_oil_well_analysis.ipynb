{
 "cells": [
  {
   "cell_type": "markdown",
   "metadata": {},
   "source": [
    "# OILYGIANT. Finding the best location for a new oil well"
   ]
  },
  {
   "cell_type": "markdown",
   "metadata": {},
   "source": [
    "## Contents  <a id='back'></a>\n",
    "\n",
    "* [Introduction](#intro) \n",
    "* [1. Data exploration](#data_review)\n",
    "* [2. Model evaluatio](#model_evaluation)\n",
    "* [3. Profit calculation](#benefit_calcutions)\n",
    "* [Conclusions](#end)"
   ]
  },
  {
   "cell_type": "markdown",
   "metadata": {},
   "source": [
    "# Introduction <a id='intro'></a>\n",
    "\n",
    "The mining company OilyGiant wants to find the best location for a new well by analyzing the parameters of oil wells in different regions (oil quality and volume of reserves).\n",
    "\n",
    "## Objectives\n",
    "\n",
    "* Validate an oil reserve volume prediction model for future OilyGiant operations.\n",
    "* Calculate the profit for a set of selected oil wells.\n",
    "* Calculate the risks and profits for each exploitation region.\n",
    "\n",
    "[Back to Contents](#back)"
   ]
  },
  {
   "cell_type": "markdown",
   "metadata": {},
   "source": [
    "## 1. Data Exploration <a id='data_review'></a>"
   ]
  },
  {
   "cell_type": "markdown",
   "metadata": {},
   "source": [
    "## Download and prepopulate data"
   ]
  },
  {
   "cell_type": "code",
   "execution_count": 1,
   "metadata": {},
   "outputs": [],
   "source": [
    "import pandas as pd\n",
    "from sklearn.model_selection import train_test_split\n",
    "from sklearn.ensemble import RandomForestRegressor\n",
    "from sklearn.model_selection import train_test_split\n",
    "from sklearn.metrics import mean_squared_error\n",
    "from sklearn.linear_model import LinearRegression\n",
    "import numpy as np\n",
    "from scipy import stats as st\n",
    " \n"
   ]
  },
  {
   "cell_type": "code",
   "execution_count": 2,
   "metadata": {},
   "outputs": [],
   "source": [
    "geo_data_0 = pd.read_csv('/datasets/geo_data_0.csv')\n",
    "geo_data_1 = pd.read_csv('/datasets/geo_data_1.csv')\n",
    "geo_data_2 = pd.read_csv('/datasets/geo_data_2.csv')\n"
   ]
  },
  {
   "cell_type": "code",
   "execution_count": 3,
   "metadata": {},
   "outputs": [
    {
     "data": {
      "text/html": [
       "<div>\n",
       "<style scoped>\n",
       "    .dataframe tbody tr th:only-of-type {\n",
       "        vertical-align: middle;\n",
       "    }\n",
       "\n",
       "    .dataframe tbody tr th {\n",
       "        vertical-align: top;\n",
       "    }\n",
       "\n",
       "    .dataframe thead th {\n",
       "        text-align: right;\n",
       "    }\n",
       "</style>\n",
       "<table border=\"1\" class=\"dataframe\">\n",
       "  <thead>\n",
       "    <tr style=\"text-align: right;\">\n",
       "      <th></th>\n",
       "      <th>id</th>\n",
       "      <th>f0</th>\n",
       "      <th>f1</th>\n",
       "      <th>f2</th>\n",
       "      <th>product</th>\n",
       "    </tr>\n",
       "  </thead>\n",
       "  <tbody>\n",
       "    <tr>\n",
       "      <th>0</th>\n",
       "      <td>txEyH</td>\n",
       "      <td>0.705745</td>\n",
       "      <td>-0.497823</td>\n",
       "      <td>1.221170</td>\n",
       "      <td>105.280062</td>\n",
       "    </tr>\n",
       "    <tr>\n",
       "      <th>1</th>\n",
       "      <td>2acmU</td>\n",
       "      <td>1.334711</td>\n",
       "      <td>-0.340164</td>\n",
       "      <td>4.365080</td>\n",
       "      <td>73.037750</td>\n",
       "    </tr>\n",
       "    <tr>\n",
       "      <th>2</th>\n",
       "      <td>409Wp</td>\n",
       "      <td>1.022732</td>\n",
       "      <td>0.151990</td>\n",
       "      <td>1.419926</td>\n",
       "      <td>85.265647</td>\n",
       "    </tr>\n",
       "    <tr>\n",
       "      <th>3</th>\n",
       "      <td>iJLyR</td>\n",
       "      <td>-0.032172</td>\n",
       "      <td>0.139033</td>\n",
       "      <td>2.978566</td>\n",
       "      <td>168.620776</td>\n",
       "    </tr>\n",
       "    <tr>\n",
       "      <th>4</th>\n",
       "      <td>Xdl7t</td>\n",
       "      <td>1.988431</td>\n",
       "      <td>0.155413</td>\n",
       "      <td>4.751769</td>\n",
       "      <td>154.036647</td>\n",
       "    </tr>\n",
       "  </tbody>\n",
       "</table>\n",
       "</div>"
      ],
      "text/plain": [
       "      id        f0        f1        f2     product\n",
       "0  txEyH  0.705745 -0.497823  1.221170  105.280062\n",
       "1  2acmU  1.334711 -0.340164  4.365080   73.037750\n",
       "2  409Wp  1.022732  0.151990  1.419926   85.265647\n",
       "3  iJLyR -0.032172  0.139033  2.978566  168.620776\n",
       "4  Xdl7t  1.988431  0.155413  4.751769  154.036647"
      ]
     },
     "execution_count": 3,
     "metadata": {},
     "output_type": "execute_result"
    }
   ],
   "source": [
    "\n",
    "geo_data_0.head()"
   ]
  },
  {
   "cell_type": "code",
   "execution_count": 4,
   "metadata": {},
   "outputs": [
    {
     "name": "stdout",
     "output_type": "stream",
     "text": [
      "<class 'pandas.core.frame.DataFrame'>\n",
      "RangeIndex: 100000 entries, 0 to 99999\n",
      "Data columns (total 5 columns):\n",
      " #   Column   Non-Null Count   Dtype  \n",
      "---  ------   --------------   -----  \n",
      " 0   id       100000 non-null  object \n",
      " 1   f0       100000 non-null  float64\n",
      " 2   f1       100000 non-null  float64\n",
      " 3   f2       100000 non-null  float64\n",
      " 4   product  100000 non-null  float64\n",
      "dtypes: float64(4), object(1)\n",
      "memory usage: 3.8+ MB\n"
     ]
    }
   ],
   "source": [
    "geo_data_0.info()"
   ]
  },
  {
   "cell_type": "code",
   "execution_count": 5,
   "metadata": {},
   "outputs": [
    {
     "data": {
      "text/html": [
       "<div>\n",
       "<style scoped>\n",
       "    .dataframe tbody tr th:only-of-type {\n",
       "        vertical-align: middle;\n",
       "    }\n",
       "\n",
       "    .dataframe tbody tr th {\n",
       "        vertical-align: top;\n",
       "    }\n",
       "\n",
       "    .dataframe thead th {\n",
       "        text-align: right;\n",
       "    }\n",
       "</style>\n",
       "<table border=\"1\" class=\"dataframe\">\n",
       "  <thead>\n",
       "    <tr style=\"text-align: right;\">\n",
       "      <th></th>\n",
       "      <th>id</th>\n",
       "      <th>f0</th>\n",
       "      <th>f1</th>\n",
       "      <th>f2</th>\n",
       "      <th>product</th>\n",
       "    </tr>\n",
       "  </thead>\n",
       "  <tbody>\n",
       "    <tr>\n",
       "      <th>0</th>\n",
       "      <td>kBEdx</td>\n",
       "      <td>-15.001348</td>\n",
       "      <td>-8.276000</td>\n",
       "      <td>-0.005876</td>\n",
       "      <td>3.179103</td>\n",
       "    </tr>\n",
       "    <tr>\n",
       "      <th>1</th>\n",
       "      <td>62mP7</td>\n",
       "      <td>14.272088</td>\n",
       "      <td>-3.475083</td>\n",
       "      <td>0.999183</td>\n",
       "      <td>26.953261</td>\n",
       "    </tr>\n",
       "    <tr>\n",
       "      <th>2</th>\n",
       "      <td>vyE1P</td>\n",
       "      <td>6.263187</td>\n",
       "      <td>-5.948386</td>\n",
       "      <td>5.001160</td>\n",
       "      <td>134.766305</td>\n",
       "    </tr>\n",
       "    <tr>\n",
       "      <th>3</th>\n",
       "      <td>KcrkZ</td>\n",
       "      <td>-13.081196</td>\n",
       "      <td>-11.506057</td>\n",
       "      <td>4.999415</td>\n",
       "      <td>137.945408</td>\n",
       "    </tr>\n",
       "    <tr>\n",
       "      <th>4</th>\n",
       "      <td>AHL4O</td>\n",
       "      <td>12.702195</td>\n",
       "      <td>-8.147433</td>\n",
       "      <td>5.004363</td>\n",
       "      <td>134.766305</td>\n",
       "    </tr>\n",
       "  </tbody>\n",
       "</table>\n",
       "</div>"
      ],
      "text/plain": [
       "      id         f0         f1        f2     product\n",
       "0  kBEdx -15.001348  -8.276000 -0.005876    3.179103\n",
       "1  62mP7  14.272088  -3.475083  0.999183   26.953261\n",
       "2  vyE1P   6.263187  -5.948386  5.001160  134.766305\n",
       "3  KcrkZ -13.081196 -11.506057  4.999415  137.945408\n",
       "4  AHL4O  12.702195  -8.147433  5.004363  134.766305"
      ]
     },
     "execution_count": 5,
     "metadata": {},
     "output_type": "execute_result"
    }
   ],
   "source": [
    "\n",
    "geo_data_1.head()"
   ]
  },
  {
   "cell_type": "code",
   "execution_count": 6,
   "metadata": {},
   "outputs": [
    {
     "name": "stdout",
     "output_type": "stream",
     "text": [
      "<class 'pandas.core.frame.DataFrame'>\n",
      "RangeIndex: 100000 entries, 0 to 99999\n",
      "Data columns (total 5 columns):\n",
      " #   Column   Non-Null Count   Dtype  \n",
      "---  ------   --------------   -----  \n",
      " 0   id       100000 non-null  object \n",
      " 1   f0       100000 non-null  float64\n",
      " 2   f1       100000 non-null  float64\n",
      " 3   f2       100000 non-null  float64\n",
      " 4   product  100000 non-null  float64\n",
      "dtypes: float64(4), object(1)\n",
      "memory usage: 3.8+ MB\n"
     ]
    }
   ],
   "source": [
    "geo_data_1.info()"
   ]
  },
  {
   "cell_type": "code",
   "execution_count": 7,
   "metadata": {},
   "outputs": [
    {
     "data": {
      "text/html": [
       "<div>\n",
       "<style scoped>\n",
       "    .dataframe tbody tr th:only-of-type {\n",
       "        vertical-align: middle;\n",
       "    }\n",
       "\n",
       "    .dataframe tbody tr th {\n",
       "        vertical-align: top;\n",
       "    }\n",
       "\n",
       "    .dataframe thead th {\n",
       "        text-align: right;\n",
       "    }\n",
       "</style>\n",
       "<table border=\"1\" class=\"dataframe\">\n",
       "  <thead>\n",
       "    <tr style=\"text-align: right;\">\n",
       "      <th></th>\n",
       "      <th>id</th>\n",
       "      <th>f0</th>\n",
       "      <th>f1</th>\n",
       "      <th>f2</th>\n",
       "      <th>product</th>\n",
       "    </tr>\n",
       "  </thead>\n",
       "  <tbody>\n",
       "    <tr>\n",
       "      <th>0</th>\n",
       "      <td>fwXo0</td>\n",
       "      <td>-1.146987</td>\n",
       "      <td>0.963328</td>\n",
       "      <td>-0.828965</td>\n",
       "      <td>27.758673</td>\n",
       "    </tr>\n",
       "    <tr>\n",
       "      <th>1</th>\n",
       "      <td>WJtFt</td>\n",
       "      <td>0.262778</td>\n",
       "      <td>0.269839</td>\n",
       "      <td>-2.530187</td>\n",
       "      <td>56.069697</td>\n",
       "    </tr>\n",
       "    <tr>\n",
       "      <th>2</th>\n",
       "      <td>ovLUW</td>\n",
       "      <td>0.194587</td>\n",
       "      <td>0.289035</td>\n",
       "      <td>-5.586433</td>\n",
       "      <td>62.871910</td>\n",
       "    </tr>\n",
       "    <tr>\n",
       "      <th>3</th>\n",
       "      <td>q6cA6</td>\n",
       "      <td>2.236060</td>\n",
       "      <td>-0.553760</td>\n",
       "      <td>0.930038</td>\n",
       "      <td>114.572842</td>\n",
       "    </tr>\n",
       "    <tr>\n",
       "      <th>4</th>\n",
       "      <td>WPMUX</td>\n",
       "      <td>-0.515993</td>\n",
       "      <td>1.716266</td>\n",
       "      <td>5.899011</td>\n",
       "      <td>149.600746</td>\n",
       "    </tr>\n",
       "  </tbody>\n",
       "</table>\n",
       "</div>"
      ],
      "text/plain": [
       "      id        f0        f1        f2     product\n",
       "0  fwXo0 -1.146987  0.963328 -0.828965   27.758673\n",
       "1  WJtFt  0.262778  0.269839 -2.530187   56.069697\n",
       "2  ovLUW  0.194587  0.289035 -5.586433   62.871910\n",
       "3  q6cA6  2.236060 -0.553760  0.930038  114.572842\n",
       "4  WPMUX -0.515993  1.716266  5.899011  149.600746"
      ]
     },
     "execution_count": 7,
     "metadata": {},
     "output_type": "execute_result"
    }
   ],
   "source": [
    "\n",
    "geo_data_2.head()"
   ]
  },
  {
   "cell_type": "code",
   "execution_count": 8,
   "metadata": {},
   "outputs": [
    {
     "name": "stdout",
     "output_type": "stream",
     "text": [
      "<class 'pandas.core.frame.DataFrame'>\n",
      "RangeIndex: 100000 entries, 0 to 99999\n",
      "Data columns (total 5 columns):\n",
      " #   Column   Non-Null Count   Dtype  \n",
      "---  ------   --------------   -----  \n",
      " 0   id       100000 non-null  object \n",
      " 1   f0       100000 non-null  float64\n",
      " 2   f1       100000 non-null  float64\n",
      " 3   f2       100000 non-null  float64\n",
      " 4   product  100000 non-null  float64\n",
      "dtypes: float64(4), object(1)\n",
      "memory usage: 3.8+ MB\n"
     ]
    }
   ],
   "source": [
    "geo_data_2.info()"
   ]
  },
  {
   "cell_type": "markdown",
   "metadata": {},
   "source": [
    "On this occasion we can observe that all the data of the characteristics f0, f1 and f2, are of floating numerical type and no missing data are appreciated, so we can indicate that we can work with them.\n",
    "\n",
    "[Back to Contents](#back)"
   ]
  },
  {
   "cell_type": "markdown",
   "metadata": {},
   "source": [
    "## 2. Model evaluation <a id='model_evaluation'></a>"
   ]
  },
  {
   "cell_type": "markdown",
   "metadata": {},
   "source": [
    "### TRAIN AND TEST THE MODEL FOR EACH REGION.\n",
    "\n",
    "In this occasion we have as we mentioned we will work with each one of the dataframe, so the whole process of data division in training sets and validation set, model testing, RECM predictions of the model, we have to perform exactly the same with each one of the data frame geo_data_0, geo_data_1 and geo_data_2, so we propose to design a function that allows us to perform each one of the calculations and to obtain"
   ]
  },
  {
   "cell_type": "code",
   "execution_count": 9,
   "metadata": {},
   "outputs": [],
   "source": [
    "def modeling_df(df_region):\n",
    "\n",
    "# The average volume of reserves is calculated\n",
    "\n",
    "    mean_volumen = df_region['product'].mean()\n",
    "    \n",
    "\n",
    "# The data is divided into a training set and a validation set in a ratio of 75:25.\n",
    "\n",
    "    features = df_region.drop(columns =['product','id'], axis=1)\n",
    "    target = df_region['product']\n",
    "    \n",
    "    features_train, features_valid, target_train, target_valid = train_test_split(\n",
    "        features, target, test_size=0.25, random_state=12345)\n",
    "\n",
    "# The model is chosen\n",
    "\n",
    "    best_result = 10000\n",
    "    best_est = 0\n",
    "    best_depth = 0\n",
    "\n",
    "    for est in range(10, 51, 10):\n",
    "        for depth in range (1, 11):\n",
    "            model_forest = RandomForestRegressor(random_state=12345 , n_estimators=est, max_depth=depth) \n",
    "\n",
    "# The model is trained and predictions are made for the validation set.\n",
    "\n",
    "            model_forest.fit(features_train, target_train) \n",
    "\n",
    "            predictions_valid = model_forest.predict(features_valid) \n",
    "\n",
    "            result = mean_squared_error(target_valid, predictions_valid)**0.5\n",
    "\n",
    "            if result < best_result:\n",
    "                best_result = result\n",
    "                best_est = est\n",
    "                best_depth = depth\n",
    "\n",
    "    \n",
    "    result_1 = \"El volúmen promedio de las reservas previstas son: \" + str(mean_volumen)\n",
    "    result_2 = \"RECM del mejor modelo en el conjunto de validación es : \" + str(best_result)\n",
    "    result_3 = \"best_depth:\"+ str(depth)\n",
    "    result_4 = \"n_estimators:\" + str(best_est)\n",
    "\n",
    "    return result_1, result_2, result_3, result_4\n",
    "\n",
    "\n"
   ]
  },
  {
   "cell_type": "code",
   "execution_count": 10,
   "metadata": {},
   "outputs": [
    {
     "data": {
      "text/plain": [
       "('El volúmen promedio de las reservas previstas son: 92.50000000000001',\n",
       " 'RECM del mejor modelo en el conjunto de validación es : 37.112242359808455',\n",
       " 'best_depth:10',\n",
       " 'n_estimators:50')"
      ]
     },
     "execution_count": 10,
     "metadata": {},
     "output_type": "execute_result"
    }
   ],
   "source": [
    "modeling_df(geo_data_0)"
   ]
  },
  {
   "cell_type": "code",
   "execution_count": 11,
   "metadata": {},
   "outputs": [
    {
     "data": {
      "text/plain": [
       "('El volúmen promedio de las reservas previstas son: 68.82500000000002',\n",
       " 'RECM del mejor modelo en el conjunto de validación es : 0.7178000901597482',\n",
       " 'best_depth:10',\n",
       " 'n_estimators:30')"
      ]
     },
     "execution_count": 11,
     "metadata": {},
     "output_type": "execute_result"
    }
   ],
   "source": [
    "modeling_df(geo_data_1)"
   ]
  },
  {
   "cell_type": "code",
   "execution_count": 12,
   "metadata": {},
   "outputs": [
    {
     "data": {
      "text/plain": [
       "('El volúmen promedio de las reservas previstas son: 95.00000000000004',\n",
       " 'RECM del mejor modelo en el conjunto de validación es : 37.70876829867544',\n",
       " 'best_depth:10',\n",
       " 'n_estimators:50')"
      ]
     },
     "execution_count": 12,
     "metadata": {},
     "output_type": "execute_result"
    }
   ],
   "source": [
    "modeling_df(geo_data_2)"
   ]
  },
  {
   "cell_type": "markdown",
   "metadata": {},
   "source": [
    "Now the linear regression model is reviewed to determine the best model, this time the average volume of the regions and RECM of this model will be obtained."
   ]
  },
  {
   "cell_type": "code",
   "execution_count": 13,
   "metadata": {},
   "outputs": [],
   "source": [
    "def linear_df(df_region):\n",
    "\n",
    "    mean_volumen = df_region['product'].mean()\n",
    "\n",
    "# The data is divided into a training set and a validation set in a ratio of 75:25.\n",
    "\n",
    "    features_df = df_region.drop(columns =['product','id'], axis=1)\n",
    "    target_df = df_region['product']\n",
    "    \n",
    "    features_train, features_valid, target_train, target_valid = train_test_split(\n",
    "        features_df, target_df, test_size=0.25, random_state=12345)\n",
    "    \n",
    "# Set the model to use\n",
    "    model_linear = LinearRegression()  \n",
    "# Train the model in the training set\n",
    "    model_linear.fit(features_train, target_train) \n",
    "# predictions are obtained and added as column in the features df\n",
    "    predictions_valid = model_linear.predict(features_valid) \n",
    "    \n",
    "    features_valid['predictions']= predictions_valid\n",
    "\n",
    "    target= target_valid\n",
    "    predictions= features_valid['predictions']\n",
    "\n",
    "    result = mean_squared_error(target_valid, predictions_valid)**0.5 \n",
    "\n",
    "    print(\"El volúmen promedio de las reservas previstas son: \" + str(mean_volumen)) \n",
    "    print(\"RECM del modelo de regresión lineal en el conjunto de validación:\" + str(result))\n",
    "\n",
    "    return target, predictions\n",
    "\n"
   ]
  },
  {
   "cell_type": "code",
   "execution_count": 14,
   "metadata": {},
   "outputs": [
    {
     "name": "stdout",
     "output_type": "stream",
     "text": [
      "El volúmen promedio de las reservas previstas son: 92.50000000000001\n",
      "RECM del modelo de regresión lineal en el conjunto de validación:37.5794217150813\n"
     ]
    },
    {
     "name": "stderr",
     "output_type": "stream",
     "text": [
      "/tmp/ipykernel_27/898533389.py:20: SettingWithCopyWarning: \n",
      "A value is trying to be set on a copy of a slice from a DataFrame.\n",
      "Try using .loc[row_indexer,col_indexer] = value instead\n",
      "\n",
      "See the caveats in the documentation: https://pandas.pydata.org/pandas-docs/stable/user_guide/indexing.html#returning-a-view-versus-a-copy\n",
      "  features_valid['predictions']= predictions_valid\n"
     ]
    },
    {
     "data": {
      "text/plain": [
       "(71751     10.038645\n",
       " 80493    114.551489\n",
       " 2655     132.603635\n",
       " 53233    169.072125\n",
       " 91141    122.325180\n",
       "             ...    \n",
       " 12581    170.116726\n",
       " 18456     93.632175\n",
       " 73035    127.352259\n",
       " 63834     99.782700\n",
       " 43558    177.821022\n",
       " Name: product, Length: 25000, dtype: float64,\n",
       " 71751     95.894952\n",
       " 80493     77.572583\n",
       " 2655      77.892640\n",
       " 53233     90.175134\n",
       " 91141     70.510088\n",
       "             ...    \n",
       " 12581    103.037104\n",
       " 18456     85.403255\n",
       " 73035     61.509833\n",
       " 63834    118.180397\n",
       " 43558    118.169392\n",
       " Name: predictions, Length: 25000, dtype: float64)"
      ]
     },
     "execution_count": 14,
     "metadata": {},
     "output_type": "execute_result"
    }
   ],
   "source": [
    "linear_df(geo_data_0)"
   ]
  },
  {
   "cell_type": "code",
   "execution_count": 15,
   "metadata": {},
   "outputs": [
    {
     "name": "stdout",
     "output_type": "stream",
     "text": [
      "El volúmen promedio de las reservas previstas son: 68.82500000000002\n",
      "RECM del modelo de regresión lineal en el conjunto de validación:0.893099286775617\n"
     ]
    },
    {
     "name": "stderr",
     "output_type": "stream",
     "text": [
      "/tmp/ipykernel_27/898533389.py:20: SettingWithCopyWarning: \n",
      "A value is trying to be set on a copy of a slice from a DataFrame.\n",
      "Try using .loc[row_indexer,col_indexer] = value instead\n",
      "\n",
      "See the caveats in the documentation: https://pandas.pydata.org/pandas-docs/stable/user_guide/indexing.html#returning-a-view-versus-a-copy\n",
      "  features_valid['predictions']= predictions_valid\n"
     ]
    },
    {
     "data": {
      "text/plain": [
       "(71751     80.859783\n",
       " 80493     53.906522\n",
       " 2655      30.132364\n",
       " 53233     53.906522\n",
       " 91141      0.000000\n",
       "             ...    \n",
       " 12581    137.945408\n",
       " 18456    110.992147\n",
       " 73035    137.945408\n",
       " 63834     84.038886\n",
       " 43558     53.906522\n",
       " Name: product, Length: 25000, dtype: float64,\n",
       " 71751     82.663314\n",
       " 80493     54.431786\n",
       " 2655      29.748760\n",
       " 53233     53.552133\n",
       " 91141      1.243856\n",
       "             ...    \n",
       " 12581    136.869211\n",
       " 18456    110.693465\n",
       " 73035    137.879341\n",
       " 63834     83.761966\n",
       " 43558     53.958466\n",
       " Name: predictions, Length: 25000, dtype: float64)"
      ]
     },
     "execution_count": 15,
     "metadata": {},
     "output_type": "execute_result"
    }
   ],
   "source": [
    "linear_df(geo_data_1)"
   ]
  },
  {
   "cell_type": "code",
   "execution_count": 16,
   "metadata": {},
   "outputs": [
    {
     "name": "stdout",
     "output_type": "stream",
     "text": [
      "El volúmen promedio de las reservas previstas son: 95.00000000000004\n",
      "RECM del modelo de regresión lineal en el conjunto de validación:40.02970873393434\n"
     ]
    },
    {
     "name": "stderr",
     "output_type": "stream",
     "text": [
      "/tmp/ipykernel_27/898533389.py:20: SettingWithCopyWarning: \n",
      "A value is trying to be set on a copy of a slice from a DataFrame.\n",
      "Try using .loc[row_indexer,col_indexer] = value instead\n",
      "\n",
      "See the caveats in the documentation: https://pandas.pydata.org/pandas-docs/stable/user_guide/indexing.html#returning-a-view-versus-a-copy\n",
      "  features_valid['predictions']= predictions_valid\n"
     ]
    },
    {
     "data": {
      "text/plain": [
       "(71751     61.212375\n",
       " 80493     41.850118\n",
       " 2655      57.776581\n",
       " 53233    100.053761\n",
       " 91141    109.897122\n",
       "             ...    \n",
       " 12581     28.492402\n",
       " 18456     21.431303\n",
       " 73035    125.487229\n",
       " 63834     99.422903\n",
       " 43558    127.445075\n",
       " Name: product, Length: 25000, dtype: float64,\n",
       " 71751     93.599633\n",
       " 80493     75.105159\n",
       " 2655      90.066809\n",
       " 53233    105.162375\n",
       " 91141    115.303310\n",
       "             ...    \n",
       " 12581     78.765887\n",
       " 18456     95.603394\n",
       " 73035     99.407281\n",
       " 63834     77.779912\n",
       " 43558    129.032417\n",
       " Name: predictions, Length: 25000, dtype: float64)"
      ]
     },
     "execution_count": 16,
     "metadata": {},
     "output_type": "execute_result"
    }
   ],
   "source": [
    "linear_df(geo_data_2)"
   ]
  },
  {
   "cell_type": "markdown",
   "metadata": {},
   "source": [
    "It can be observed that the root mean square error (RECM) is lower in the geo_data_1 dataframe and the average of this is the one with the lowest value, while the other two average volumes of the dataframe oscillate between 92 and 95, with a similar RECM between them. \n",
    "\n",
    "Observing the results of the linear regression model, similar results to those previously obtained are obtained, where in geo_data_1 the lowest RECM is obtained.\n",
    "\n",
    "Considering this way, it can be observed that there is less error in the linear regression model in order to start the analysis of the product obtained in the wells of the different regions.\n",
    "\n",
    "[Back to Contents](#back)"
   ]
  },
  {
   "cell_type": "markdown",
   "metadata": {},
   "source": [
    "## 3. Profit calculation <a id='benefit_calcutions'></a>\n",
    "\n",
    "### Profit calculation by region"
   ]
  },
  {
   "cell_type": "markdown",
   "metadata": {},
   "source": [
    "We will calculate the volume to develop a new well without losses, total average profit for each of the regions, expenses per well and the average income from the volume obtained, in this case it is a general review of the data without the model to be able to appreciate more clearly what we are working with."
   ]
  },
  {
   "cell_type": "code",
   "execution_count": 17,
   "metadata": {},
   "outputs": [],
   "source": [
    "def metricas_beneficio(df_region):\n",
    "\n",
    "# Se almacenan los valores clave en variables\n",
    "    budget = 100000000\n",
    "    well_per_budget = 200\n",
    "    cost_per_well = budget / well_per_budget\n",
    "    product_price = df_region['product']*4500\n",
    "\n",
    "# Se calcula el volumen promedio de las reservas \n",
    "    mean_volumen = df_region['product'].mean()\n",
    "\n",
    "# Se calcula el volumen para desarrollar un nuevo pozo sin pérdidas\n",
    "    product_mean = product_price.mean()\n",
    "    volumen_no_losses = budget /(well_per_budget*4500)\n",
    "    \n",
    "    profit = product_price - cost_per_well\n",
    "    profit_mean= profit.mean()\n",
    "\n",
    "\n",
    "    return \"El volumen para desarrollar un nuevo pozo sin pérdidas: \" + str(volumen_no_losses), \"El volumen promedio de las reservas previstas son: \" + str(mean_volumen), 'El gasto por pozo es de: '+str(cost_per_well), 'El ingreso promedio del volumen obtenido es de: '+str(product_mean),'El beneficio promedio es de: '+str (profit_mean)\n",
    "    "
   ]
  },
  {
   "cell_type": "code",
   "execution_count": 18,
   "metadata": {},
   "outputs": [
    {
     "data": {
      "text/plain": [
       "('El volumen para desarrollar un nuevo pozo sin pérdidas: 111.11111111111111',\n",
       " 'El volumen promedio de las reservas previstas son: 92.50000000000001',\n",
       " 'El gasto por pozo es de: 500000.0',\n",
       " 'El ingreso promedio del volumen obtenido es de: 416250.00000000006',\n",
       " 'El beneficio promedio es de: -83749.99999999994')"
      ]
     },
     "execution_count": 18,
     "metadata": {},
     "output_type": "execute_result"
    }
   ],
   "source": [
    "metricas_beneficio(geo_data_0)"
   ]
  },
  {
   "cell_type": "code",
   "execution_count": 19,
   "metadata": {},
   "outputs": [
    {
     "data": {
      "text/plain": [
       "('El volumen para desarrollar un nuevo pozo sin pérdidas: 111.11111111111111',\n",
       " 'El volumen promedio de las reservas previstas son: 68.82500000000002',\n",
       " 'El gasto por pozo es de: 500000.0',\n",
       " 'El ingreso promedio del volumen obtenido es de: 309712.50000000006',\n",
       " 'El beneficio promedio es de: -190287.4999999999')"
      ]
     },
     "execution_count": 19,
     "metadata": {},
     "output_type": "execute_result"
    }
   ],
   "source": [
    "metricas_beneficio(geo_data_1)\n"
   ]
  },
  {
   "cell_type": "code",
   "execution_count": 20,
   "metadata": {},
   "outputs": [
    {
     "data": {
      "text/plain": [
       "('El volumen para desarrollar un nuevo pozo sin pérdidas: 111.11111111111111',\n",
       " 'El volumen promedio de las reservas previstas son: 95.00000000000004',\n",
       " 'El gasto por pozo es de: 500000.0',\n",
       " 'El ingreso promedio del volumen obtenido es de: 427500.00000000006',\n",
       " 'El beneficio promedio es de: -72499.99999999993')"
      ]
     },
     "execution_count": 20,
     "metadata": {},
     "output_type": "execute_result"
    }
   ],
   "source": [
    "metricas_beneficio(geo_data_2)"
   ]
  },
  {
   "cell_type": "markdown",
   "metadata": {},
   "source": [
    "We can observe that the three regions present losses, since they have gains in negative values, in this case if we compare the values of the volume of reserves sufficient to develop a new well without losses with the average volume of each of the regions and we can observe that in all cases the volume necessary to avoid losses is greater, which indicates that the wells are not generating the volume necessary to avoid generating gains, therefore there are losses, however, region 2 is the one with less losses, which indicates that it is where the wells generate the most, so the region with the lowest losses is selected, since it is the one with the\n",
    "The region with lower losses is selected, since the probability of finding wells with better yields is higher than the probability of the other two regions.\n",
    "\n",
    "[Back to Contents](#back)"
   ]
  },
  {
   "cell_type": "markdown",
   "metadata": {},
   "source": [
    "### Sample profit calculation"
   ]
  },
  {
   "cell_type": "markdown",
   "metadata": {},
   "source": [
    "This time we will use a function similar to the one used to test the linear regression model, with the variant that in this one we will return the target and predictions that we used in the function to calculate the profit."
   ]
  },
  {
   "cell_type": "code",
   "execution_count": 21,
   "metadata": {},
   "outputs": [],
   "source": [
    "budget= 100000000\n",
    "product_price= 4500\n",
    "best_will = 200"
   ]
  },
  {
   "cell_type": "code",
   "execution_count": 22,
   "metadata": {},
   "outputs": [
    {
     "name": "stderr",
     "output_type": "stream",
     "text": [
      "/tmp/ipykernel_27/898533389.py:20: SettingWithCopyWarning: \n",
      "A value is trying to be set on a copy of a slice from a DataFrame.\n",
      "Try using .loc[row_indexer,col_indexer] = value instead\n",
      "\n",
      "See the caveats in the documentation: https://pandas.pydata.org/pandas-docs/stable/user_guide/indexing.html#returning-a-view-versus-a-copy\n",
      "  features_valid['predictions']= predictions_valid\n"
     ]
    },
    {
     "name": "stdout",
     "output_type": "stream",
     "text": [
      "El volúmen promedio de las reservas previstas son: 92.50000000000001\n",
      "RECM del modelo de regresión lineal en el conjunto de validación:37.5794217150813\n"
     ]
    }
   ],
   "source": [
    "target_predictions_0=pd.DataFrame(linear_df(geo_data_0)).transpose()\n",
    "target_0= target_predictions_0['product']\n",
    "predictions_0= target_predictions_0['predictions']"
   ]
  },
  {
   "cell_type": "code",
   "execution_count": 23,
   "metadata": {},
   "outputs": [
    {
     "name": "stderr",
     "output_type": "stream",
     "text": [
      "/tmp/ipykernel_27/898533389.py:20: SettingWithCopyWarning: \n",
      "A value is trying to be set on a copy of a slice from a DataFrame.\n",
      "Try using .loc[row_indexer,col_indexer] = value instead\n",
      "\n",
      "See the caveats in the documentation: https://pandas.pydata.org/pandas-docs/stable/user_guide/indexing.html#returning-a-view-versus-a-copy\n",
      "  features_valid['predictions']= predictions_valid\n"
     ]
    },
    {
     "name": "stdout",
     "output_type": "stream",
     "text": [
      "El volúmen promedio de las reservas previstas son: 68.82500000000002\n",
      "RECM del modelo de regresión lineal en el conjunto de validación:0.893099286775617\n"
     ]
    }
   ],
   "source": [
    "target_predictions_1=pd.DataFrame(linear_df(geo_data_1)).transpose()\n",
    "target_1= target_predictions_1['product']\n",
    "predictions_1= target_predictions_1['predictions']"
   ]
  },
  {
   "cell_type": "code",
   "execution_count": 24,
   "metadata": {},
   "outputs": [
    {
     "name": "stderr",
     "output_type": "stream",
     "text": [
      "/tmp/ipykernel_27/898533389.py:20: SettingWithCopyWarning: \n",
      "A value is trying to be set on a copy of a slice from a DataFrame.\n",
      "Try using .loc[row_indexer,col_indexer] = value instead\n",
      "\n",
      "See the caveats in the documentation: https://pandas.pydata.org/pandas-docs/stable/user_guide/indexing.html#returning-a-view-versus-a-copy\n",
      "  features_valid['predictions']= predictions_valid\n"
     ]
    },
    {
     "name": "stdout",
     "output_type": "stream",
     "text": [
      "El volúmen promedio de las reservas previstas son: 95.00000000000004\n",
      "RECM del modelo de regresión lineal en el conjunto de validación:40.02970873393434\n"
     ]
    }
   ],
   "source": [
    "target_predictions_2=pd.DataFrame(linear_df(geo_data_2)).transpose()\n",
    "target_2= target_predictions_2['product']\n",
    "predictions_2= target_predictions_2['predictions']"
   ]
  },
  {
   "cell_type": "markdown",
   "metadata": {},
   "source": [
    "In this case, a function is designed to determine the profit of the 200 best wells in each of the regions."
   ]
  },
  {
   "cell_type": "code",
   "execution_count": 25,
   "metadata": {},
   "outputs": [],
   "source": [
    "def profit(target,predictions):\n",
    "    # Se acomodan los valores de las predicciones de orden descendiente \n",
    "    predictions_sorted= predictions.sort_values(ascending=False)\n",
    "    # Se resumen y seleccionan los mejores 200 pozos con base a su producto\n",
    "    selected_points = target[predictions_sorted.index[0:best_will]]\n",
    "    # Se suman los valosres de la producción de los mejores 200 pozos\n",
    "    product = selected_points.sum()\n",
    "    # Se calcula la ganancia multiplicando la producción de barriles por el precio de $4'500 dólares\n",
    "    revenue = product*product_price\n",
    "    # Se establece el valor del presupuesto o del costo 200 pozos petroleros\n",
    "    cost = budget\n",
    "\n",
    "    \n",
    "    return revenue - cost"
   ]
  },
  {
   "cell_type": "code",
   "execution_count": 26,
   "metadata": {},
   "outputs": [
    {
     "data": {
      "text/plain": [
       "33208260.43139851"
      ]
     },
     "execution_count": 26,
     "metadata": {},
     "output_type": "execute_result"
    }
   ],
   "source": [
    "profit(target_0,predictions_0)"
   ]
  },
  {
   "cell_type": "code",
   "execution_count": 27,
   "metadata": {},
   "outputs": [
    {
     "data": {
      "text/plain": [
       "24150866.966815114"
      ]
     },
     "execution_count": 27,
     "metadata": {},
     "output_type": "execute_result"
    }
   ],
   "source": [
    "profit(target_1,predictions_1)"
   ]
  },
  {
   "cell_type": "code",
   "execution_count": 28,
   "metadata": {},
   "outputs": [
    {
     "data": {
      "text/plain": [
       "27103499.635998324"
      ]
     },
     "execution_count": 28,
     "metadata": {},
     "output_type": "execute_result"
    }
   ],
   "source": [
    "profit(target_2,predictions_2)"
   ]
  },
  {
   "cell_type": "markdown",
   "metadata": {},
   "source": [
    "Once the earnings of the 200 wells with the best barrel productions in each of the regions were calculated, we can see that region 0 is the one with the best 200 wells of the three regions, with a profit of 32.5 million dollars, while regions 1 and 2 have similar profits between 23 and 26 million dollars.\n",
    "\n",
    "[Back to Contents](#back)"
   ]
  },
  {
   "cell_type": "markdown",
   "metadata": {},
   "source": [
    "### Calculation of risks and profits for each region"
   ]
  },
  {
   "cell_type": "markdown",
   "metadata": {},
   "source": [
    "A bootstrap function is now designed to obtain 1000 samples of 500 data, to select the 200 best wells from each of the samples, to calculate the average profit, the 95% confidence interval and the risk of loss."
   ]
  },
  {
   "cell_type": "code",
   "execution_count": 29,
   "metadata": {},
   "outputs": [],
   "source": [
    "# Variables such as botstrap size, sample size and random element are set to obtain \n",
    "state = np.random.RandomState(12345)\n",
    "bootstrap_size= 1000\n",
    "sample_size= 500\n",
    "\n",
    "# Botstrap function\n",
    "def bootstrap_reg(target,prediction):\n",
    "    # profit_values variable is set\n",
    "    profit_values=[]\n",
    "    # Set the range with bootstrap size\n",
    "    for i in range (bootstrap_size):\n",
    "        # Target sample is set with the size of samples with random number generation with repetition \n",
    "        target_sample = target.sample(sample_size, replace=True, random_state=state)\n",
    "        # Set the prediction sample\n",
    "        predictions_sample = prediction[target_sample.index]\n",
    "        \n",
    "        profit_values.append(profit(target_sample, predictions_sample))\n",
    "# The list of profit values in a series is established and the average profit is calculated\n",
    "    profit_values = pd.Series(profit_values)\n",
    "    mean_profit= profit_values.mean()\n",
    "# Calculate the 95% confidence interval\n",
    "    lower = profit_values.quantile(0.025)\n",
    "    upper = profit_values.quantile(0.975)\n",
    "# Calculate the downside risk by setting the number of wells with negative profit and divide \n",
    "    profit_negative= profit_values[profit_values<0].count()\n",
    "    \n",
    "    loss= 100* profit_negative/len(profit_values)\n",
    "\n",
    "    return 'El beneficio promedio de la región es de: ' + str(mean_profit), 'Valor del intervalo más bajo: ' + str(lower), 'Valor del intervalo más alto: ' + str(upper), 'Valor del riesgo de pérdidas: ' + str(loss) + '%'\n",
    "    \n"
   ]
  },
  {
   "cell_type": "code",
   "execution_count": 30,
   "metadata": {},
   "outputs": [
    {
     "data": {
      "text/plain": [
       "('El beneficio promedio de la región es de: 6007352.442611653',\n",
       " 'Valor del intervalo más bajo: 129483.3113511391',\n",
       " 'Valor del intervalo más alto: 12311636.057914983',\n",
       " 'Valor del riesgo de pérdidas: 2.0%')"
      ]
     },
     "execution_count": 30,
     "metadata": {},
     "output_type": "execute_result"
    }
   ],
   "source": [
    "bootstrap_reg(target_0,predictions_0)"
   ]
  },
  {
   "cell_type": "code",
   "execution_count": 31,
   "metadata": {},
   "outputs": [
    {
     "data": {
      "text/plain": [
       "('El beneficio promedio de la región es de: 6639589.952601906',\n",
       " 'Valor del intervalo más bajo: 2064763.6125177094',\n",
       " 'Valor del intervalo más alto: 11911976.84748842',\n",
       " 'Valor del riesgo de pérdidas: 0.1%')"
      ]
     },
     "execution_count": 31,
     "metadata": {},
     "output_type": "execute_result"
    }
   ],
   "source": [
    "bootstrap_reg(target_1,predictions_1)"
   ]
  },
  {
   "cell_type": "code",
   "execution_count": 32,
   "metadata": {},
   "outputs": [
    {
     "data": {
      "text/plain": [
       "('El beneficio promedio de la región es de: 5973810.479005231',\n",
       " 'Valor del intervalo más bajo: 17349.29531177253',\n",
       " 'Valor del intervalo más alto: 12462179.601652356',\n",
       " 'Valor del riesgo de pérdidas: 2.5%')"
      ]
     },
     "execution_count": 32,
     "metadata": {},
     "output_type": "execute_result"
    }
   ],
   "source": [
    "bootstrap_reg(target_2,predictions_2)"
   ]
  },
  {
   "cell_type": "markdown",
   "metadata": {},
   "source": [
    "We can observe that the average profit of region 1 is higher than the other two regions by approximately one million dollars, as well as we can observe that the risk of loss is twenty times lower in this zone than in the other two, region 1 only includes wells with profits in the lower interval value and its losses are less than 2.5%.\n",
    "\n",
    "[Back to Contents](#back)"
   ]
  },
  {
   "cell_type": "markdown",
   "metadata": {},
   "source": [
    "## Conclusions <a id='end'></a> "
   ]
  },
  {
   "cell_type": "markdown",
   "metadata": {},
   "source": [
    "In this project we initially performed an analysis of the data from each of the regions, then an analysis of the models that could possibly be used was made, \n",
    "\n",
    "Once the linear regression model was selected, functions were designed to calculate the profits of the best 200 wells in each region. Later, a bootstrap function was designed to obtain 1000 samples of 500 data, to select the best 200 wells of each sample, to calculate the average profit, the 95% confidence interval and the risk of losses by obtaining the number of lost wells in that sample.\n",
    "\n",
    "In this work we found that :\n",
    "\n",
    "1. being numerical data the regression models are those that we can use as the linear regression and forest, applying it for each of the regions, when analyzing it we found that it has a lower average error the linear regression model, which was selected to be able to use it in the analysis and design of functions of this project.\n",
    "2. in the analysis of the profits of the best 200 wells of each of the regions, observing that the region that obtains more profit is region 0 with 33 million dollars, while regions 1 and 2 have similar profits between 24 and 27 million dollars.\n",
    "3. the result of a bootstrap was that the average profit of 1000 samples from region 1 is a little more than 6 million dollars, due to the fact that the risk of loss is the lowest of 0.1, being 20 times less than that of region 0 and 25 times less than that of region 2.\n",
    "\n",
    "Therefore, it is concluded that the best region for the development of oil wells is region 1.\n",
    "\n",
    "[Back to Contents](#back)\n"
   ]
  },
  {
   "cell_type": "markdown",
   "metadata": {},
   "source": []
  }
 ],
 "metadata": {
  "kernelspec": {
   "display_name": "Python 3 (ipykernel)",
   "language": "python",
   "name": "python3"
  },
  "language_info": {
   "codemirror_mode": {
    "name": "ipython",
    "version": 3
   },
   "file_extension": ".py",
   "mimetype": "text/x-python",
   "name": "python",
   "nbconvert_exporter": "python",
   "pygments_lexer": "ipython3",
   "version": "3.9.5"
  },
  "toc": {
   "base_numbering": 1,
   "nav_menu": {},
   "number_sections": true,
   "sideBar": true,
   "skip_h1_title": true,
   "title_cell": "Table of Contents",
   "title_sidebar": "Contents",
   "toc_cell": false,
   "toc_position": {},
   "toc_section_display": true,
   "toc_window_display": false
  }
 },
 "nbformat": 4,
 "nbformat_minor": 2
}
