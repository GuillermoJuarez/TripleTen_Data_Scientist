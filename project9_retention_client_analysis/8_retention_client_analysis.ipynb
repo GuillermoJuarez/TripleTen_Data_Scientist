{
 "cells": [
  {
   "cell_type": "markdown",
   "metadata": {},
   "source": [
    "# BETA BANK. Retención de clientes"
   ]
  },
  {
   "cell_type": "markdown",
   "metadata": {},
   "source": [
    "## Contenido <a id='back'></a>\n",
    "\n",
    "* [Introducción](#intro) \n",
    "* [1. Exploración de datos](#data_review)\n",
    "* [2. Preprocesamiento de datos y estandarización de datos](#data_preprocessing)\n",
    "* [3. EDA](#eda)\n",
    "* [4. Evaluación de modelos](#model_evaluation)\n",
    "* [5. Mejoramiento de modelo](#model_better)\n",
    "* [Conclusiones](#end)\n"
   ]
  },
  {
   "cell_type": "markdown",
   "metadata": {},
   "source": [
    "# INTRODUCCIÓN <a id='intro'></a>\n",
    "\n",
    "Los clientes de Beta Bank se están yendo, cada mes, poco a poco. Los banqueros descubrieron que es más barato salvar a los clientes existentes que atraer nuevos, por lo que se necesita predecir si un cliente dejará el banco pronto. \n",
    "\n",
    "## Objetivo\n",
    "\n",
    "* Crear un modelo de predicción de la retención de los clientes de Beta Bank, con un valor F1 de al menos 0.59. \n",
    "\n",
    "[Regresar a Contenido](#back)"
   ]
  },
  {
   "cell_type": "markdown",
   "metadata": {},
   "source": [
    "## 1. Exploración de datos <a id='data_review'></a>"
   ]
  },
  {
   "cell_type": "markdown",
   "metadata": {},
   "source": [
    "### Descarga y prepara los datos"
   ]
  },
  {
   "cell_type": "markdown",
   "metadata": {},
   "source": [
    "Como primer paso se descargaran y analizaran los datos "
   ]
  },
  {
   "cell_type": "code",
   "execution_count": 81,
   "metadata": {},
   "outputs": [],
   "source": [
    "import pandas as pd\n",
    "from sklearn.model_selection import train_test_split\n",
    "from sklearn.linear_model import LogisticRegression\n",
    "from sklearn.tree import DecisionTreeClassifier\n",
    "from sklearn.ensemble import RandomForestClassifier\n",
    "from sklearn.metrics import accuracy_score\n",
    "from sklearn.metrics import confusion_matrix\n",
    "from sklearn.metrics import recall_score\n",
    "from sklearn.metrics import precision_score\n",
    "from sklearn.metrics import f1_score\n",
    "from sklearn.dummy import DummyClassifier\n",
    "from sklearn.utils import shuffle\n",
    "from sklearn.metrics import precision_recall_curve\n",
    "import numpy as np\n",
    "import matplotlib.pyplot as plt\n",
    "from sklearn.metrics import roc_curve \n",
    "from sklearn.metrics import roc_auc_score\n",
    "from sklearn.dummy import DummyClassifier\n",
    "from sklearn.metrics import mean_absolute_error\n",
    "from sklearn.preprocessing import StandardScaler \n"
   ]
  },
  {
   "cell_type": "code",
   "execution_count": 82,
   "metadata": {
    "scrolled": true
   },
   "outputs": [
    {
     "data": {
      "text/html": [
       "<div>\n",
       "<style scoped>\n",
       "    .dataframe tbody tr th:only-of-type {\n",
       "        vertical-align: middle;\n",
       "    }\n",
       "\n",
       "    .dataframe tbody tr th {\n",
       "        vertical-align: top;\n",
       "    }\n",
       "\n",
       "    .dataframe thead th {\n",
       "        text-align: right;\n",
       "    }\n",
       "</style>\n",
       "<table border=\"1\" class=\"dataframe\">\n",
       "  <thead>\n",
       "    <tr style=\"text-align: right;\">\n",
       "      <th></th>\n",
       "      <th>RowNumber</th>\n",
       "      <th>CustomerId</th>\n",
       "      <th>Surname</th>\n",
       "      <th>CreditScore</th>\n",
       "      <th>Geography</th>\n",
       "      <th>Gender</th>\n",
       "      <th>Age</th>\n",
       "      <th>Tenure</th>\n",
       "      <th>Balance</th>\n",
       "      <th>NumOfProducts</th>\n",
       "      <th>HasCrCard</th>\n",
       "      <th>IsActiveMember</th>\n",
       "      <th>EstimatedSalary</th>\n",
       "      <th>Exited</th>\n",
       "    </tr>\n",
       "  </thead>\n",
       "  <tbody>\n",
       "    <tr>\n",
       "      <th>0</th>\n",
       "      <td>1</td>\n",
       "      <td>15634602</td>\n",
       "      <td>Hargrave</td>\n",
       "      <td>619</td>\n",
       "      <td>France</td>\n",
       "      <td>Female</td>\n",
       "      <td>42</td>\n",
       "      <td>2.0</td>\n",
       "      <td>0.00</td>\n",
       "      <td>1</td>\n",
       "      <td>1</td>\n",
       "      <td>1</td>\n",
       "      <td>101348.88</td>\n",
       "      <td>1</td>\n",
       "    </tr>\n",
       "    <tr>\n",
       "      <th>1</th>\n",
       "      <td>2</td>\n",
       "      <td>15647311</td>\n",
       "      <td>Hill</td>\n",
       "      <td>608</td>\n",
       "      <td>Spain</td>\n",
       "      <td>Female</td>\n",
       "      <td>41</td>\n",
       "      <td>1.0</td>\n",
       "      <td>83807.86</td>\n",
       "      <td>1</td>\n",
       "      <td>0</td>\n",
       "      <td>1</td>\n",
       "      <td>112542.58</td>\n",
       "      <td>0</td>\n",
       "    </tr>\n",
       "    <tr>\n",
       "      <th>2</th>\n",
       "      <td>3</td>\n",
       "      <td>15619304</td>\n",
       "      <td>Onio</td>\n",
       "      <td>502</td>\n",
       "      <td>France</td>\n",
       "      <td>Female</td>\n",
       "      <td>42</td>\n",
       "      <td>8.0</td>\n",
       "      <td>159660.80</td>\n",
       "      <td>3</td>\n",
       "      <td>1</td>\n",
       "      <td>0</td>\n",
       "      <td>113931.57</td>\n",
       "      <td>1</td>\n",
       "    </tr>\n",
       "    <tr>\n",
       "      <th>3</th>\n",
       "      <td>4</td>\n",
       "      <td>15701354</td>\n",
       "      <td>Boni</td>\n",
       "      <td>699</td>\n",
       "      <td>France</td>\n",
       "      <td>Female</td>\n",
       "      <td>39</td>\n",
       "      <td>1.0</td>\n",
       "      <td>0.00</td>\n",
       "      <td>2</td>\n",
       "      <td>0</td>\n",
       "      <td>0</td>\n",
       "      <td>93826.63</td>\n",
       "      <td>0</td>\n",
       "    </tr>\n",
       "    <tr>\n",
       "      <th>4</th>\n",
       "      <td>5</td>\n",
       "      <td>15737888</td>\n",
       "      <td>Mitchell</td>\n",
       "      <td>850</td>\n",
       "      <td>Spain</td>\n",
       "      <td>Female</td>\n",
       "      <td>43</td>\n",
       "      <td>2.0</td>\n",
       "      <td>125510.82</td>\n",
       "      <td>1</td>\n",
       "      <td>1</td>\n",
       "      <td>1</td>\n",
       "      <td>79084.10</td>\n",
       "      <td>0</td>\n",
       "    </tr>\n",
       "  </tbody>\n",
       "</table>\n",
       "</div>"
      ],
      "text/plain": [
       "   RowNumber  CustomerId   Surname  CreditScore Geography  Gender  Age  \\\n",
       "0          1    15634602  Hargrave          619    France  Female   42   \n",
       "1          2    15647311      Hill          608     Spain  Female   41   \n",
       "2          3    15619304      Onio          502    France  Female   42   \n",
       "3          4    15701354      Boni          699    France  Female   39   \n",
       "4          5    15737888  Mitchell          850     Spain  Female   43   \n",
       "\n",
       "   Tenure    Balance  NumOfProducts  HasCrCard  IsActiveMember  \\\n",
       "0     2.0       0.00              1          1               1   \n",
       "1     1.0   83807.86              1          0               1   \n",
       "2     8.0  159660.80              3          1               0   \n",
       "3     1.0       0.00              2          0               0   \n",
       "4     2.0  125510.82              1          1               1   \n",
       "\n",
       "   EstimatedSalary  Exited  \n",
       "0        101348.88       1  \n",
       "1        112542.58       0  \n",
       "2        113931.57       1  \n",
       "3         93826.63       0  \n",
       "4         79084.10       0  "
      ]
     },
     "execution_count": 82,
     "metadata": {},
     "output_type": "execute_result"
    }
   ],
   "source": [
    "data = pd.read_csv('/datasets/Churn.csv')\n",
    "data.head()"
   ]
  },
  {
   "cell_type": "markdown",
   "metadata": {},
   "source": [
    "[Regresar a Contenido](#back)"
   ]
  },
  {
   "cell_type": "markdown",
   "metadata": {},
   "source": [
    "## 2. Preprocesamiento de datos y estandarización de datos <a id='data_preprocessing'></a>"
   ]
  },
  {
   "cell_type": "code",
   "execution_count": 83,
   "metadata": {
    "scrolled": false
   },
   "outputs": [
    {
     "name": "stdout",
     "output_type": "stream",
     "text": [
      "<class 'pandas.core.frame.DataFrame'>\n",
      "RangeIndex: 10000 entries, 0 to 9999\n",
      "Data columns (total 14 columns):\n",
      " #   Column           Non-Null Count  Dtype  \n",
      "---  ------           --------------  -----  \n",
      " 0   RowNumber        10000 non-null  int64  \n",
      " 1   CustomerId       10000 non-null  int64  \n",
      " 2   Surname          10000 non-null  object \n",
      " 3   CreditScore      10000 non-null  int64  \n",
      " 4   Geography        10000 non-null  object \n",
      " 5   Gender           10000 non-null  object \n",
      " 6   Age              10000 non-null  int64  \n",
      " 7   Tenure           9091 non-null   float64\n",
      " 8   Balance          10000 non-null  float64\n",
      " 9   NumOfProducts    10000 non-null  int64  \n",
      " 10  HasCrCard        10000 non-null  int64  \n",
      " 11  IsActiveMember   10000 non-null  int64  \n",
      " 12  EstimatedSalary  10000 non-null  float64\n",
      " 13  Exited           10000 non-null  int64  \n",
      "dtypes: float64(3), int64(8), object(3)\n",
      "memory usage: 1.1+ MB\n"
     ]
    }
   ],
   "source": [
    "data.info()"
   ]
  },
  {
   "cell_type": "markdown",
   "metadata": {},
   "source": [
    "Podemos observar que en la columna 'Tenure' hay algunos datos ausentes, como no se tiene algún valor se considerará la media y la mediana."
   ]
  },
  {
   "cell_type": "code",
   "execution_count": 84,
   "metadata": {
    "scrolled": true
   },
   "outputs": [
    {
     "data": {
      "text/plain": [
       "1.0     952\n",
       "2.0     950\n",
       "8.0     933\n",
       "3.0     928\n",
       "5.0     927\n",
       "7.0     925\n",
       "4.0     885\n",
       "9.0     882\n",
       "6.0     881\n",
       "10.0    446\n",
       "0.0     382\n",
       "Name: Tenure, dtype: int64"
      ]
     },
     "execution_count": 84,
     "metadata": {},
     "output_type": "execute_result"
    }
   ],
   "source": [
    "data['Tenure'].value_counts()"
   ]
  },
  {
   "cell_type": "code",
   "execution_count": 85,
   "metadata": {
    "scrolled": false
   },
   "outputs": [
    {
     "data": {
      "text/plain": [
       "909"
      ]
     },
     "execution_count": 85,
     "metadata": {},
     "output_type": "execute_result"
    }
   ],
   "source": [
    "data['Tenure'].isnull().sum()"
   ]
  },
  {
   "cell_type": "code",
   "execution_count": 86,
   "metadata": {},
   "outputs": [
    {
     "data": {
      "text/plain": [
       "count    9091.000000\n",
       "mean        4.997690\n",
       "std         2.894723\n",
       "min         0.000000\n",
       "25%         2.000000\n",
       "50%         5.000000\n",
       "75%         7.000000\n",
       "max        10.000000\n",
       "Name: Tenure, dtype: float64"
      ]
     },
     "execution_count": 86,
     "metadata": {},
     "output_type": "execute_result"
    }
   ],
   "source": [
    "data['Tenure'].describe()"
   ]
  },
  {
   "cell_type": "code",
   "execution_count": 87,
   "metadata": {
    "scrolled": false
   },
   "outputs": [
    {
     "name": "stdout",
     "output_type": "stream",
     "text": [
      "La media de la columna Tenure es:  4.997690023099769\n",
      "La mediana de la columna Tenure es es:  5.0\n"
     ]
    }
   ],
   "source": [
    "print('La media de la columna Tenure es: ', data['Tenure'].mean())\n",
    "print('La mediana de la columna Tenure es es: ', data['Tenure'].median())"
   ]
  },
  {
   "cell_type": "markdown",
   "metadata": {},
   "source": [
    "Como no tenemos valores atípicos  significantes utilizaremos la media de los datos de la columna Tenure, sin embargo, los datos de esta columna son números cerrados, por lo que se rellenaran 5."
   ]
  },
  {
   "cell_type": "code",
   "execution_count": 88,
   "metadata": {},
   "outputs": [
    {
     "data": {
      "text/plain": [
       "0"
      ]
     },
     "execution_count": 88,
     "metadata": {},
     "output_type": "execute_result"
    }
   ],
   "source": [
    "data['Tenure']=data['Tenure'].fillna(data['Tenure'].median())\n",
    "data['Tenure'].isnull().sum()"
   ]
  },
  {
   "cell_type": "code",
   "execution_count": 89,
   "metadata": {},
   "outputs": [
    {
     "name": "stdout",
     "output_type": "stream",
     "text": [
      "<class 'pandas.core.frame.DataFrame'>\n",
      "RangeIndex: 10000 entries, 0 to 9999\n",
      "Data columns (total 14 columns):\n",
      " #   Column           Non-Null Count  Dtype  \n",
      "---  ------           --------------  -----  \n",
      " 0   RowNumber        10000 non-null  int64  \n",
      " 1   CustomerId       10000 non-null  int64  \n",
      " 2   Surname          10000 non-null  object \n",
      " 3   CreditScore      10000 non-null  int64  \n",
      " 4   Geography        10000 non-null  object \n",
      " 5   Gender           10000 non-null  object \n",
      " 6   Age              10000 non-null  int64  \n",
      " 7   Tenure           10000 non-null  float64\n",
      " 8   Balance          10000 non-null  float64\n",
      " 9   NumOfProducts    10000 non-null  int64  \n",
      " 10  HasCrCard        10000 non-null  int64  \n",
      " 11  IsActiveMember   10000 non-null  int64  \n",
      " 12  EstimatedSalary  10000 non-null  float64\n",
      " 13  Exited           10000 non-null  int64  \n",
      "dtypes: float64(3), int64(8), object(3)\n",
      "memory usage: 1.1+ MB\n"
     ]
    }
   ],
   "source": [
    "data.info()"
   ]
  },
  {
   "cell_type": "code",
   "execution_count": 90,
   "metadata": {
    "scrolled": true
   },
   "outputs": [
    {
     "data": {
      "text/html": [
       "<div>\n",
       "<style scoped>\n",
       "    .dataframe tbody tr th:only-of-type {\n",
       "        vertical-align: middle;\n",
       "    }\n",
       "\n",
       "    .dataframe tbody tr th {\n",
       "        vertical-align: top;\n",
       "    }\n",
       "\n",
       "    .dataframe thead th {\n",
       "        text-align: right;\n",
       "    }\n",
       "</style>\n",
       "<table border=\"1\" class=\"dataframe\">\n",
       "  <thead>\n",
       "    <tr style=\"text-align: right;\">\n",
       "      <th></th>\n",
       "      <th>CreditScore</th>\n",
       "      <th>Age</th>\n",
       "      <th>Tenure</th>\n",
       "      <th>Balance</th>\n",
       "      <th>NumOfProducts</th>\n",
       "      <th>HasCrCard</th>\n",
       "      <th>IsActiveMember</th>\n",
       "      <th>EstimatedSalary</th>\n",
       "      <th>Geography_France</th>\n",
       "      <th>Geography_Germany</th>\n",
       "      <th>Geography_Spain</th>\n",
       "      <th>Gender_Female</th>\n",
       "      <th>Gender_Male</th>\n",
       "    </tr>\n",
       "  </thead>\n",
       "  <tbody>\n",
       "    <tr>\n",
       "      <th>0</th>\n",
       "      <td>619</td>\n",
       "      <td>42</td>\n",
       "      <td>2.0</td>\n",
       "      <td>0.00</td>\n",
       "      <td>1</td>\n",
       "      <td>1</td>\n",
       "      <td>1</td>\n",
       "      <td>101348.88</td>\n",
       "      <td>1</td>\n",
       "      <td>0</td>\n",
       "      <td>0</td>\n",
       "      <td>1</td>\n",
       "      <td>0</td>\n",
       "    </tr>\n",
       "    <tr>\n",
       "      <th>1</th>\n",
       "      <td>608</td>\n",
       "      <td>41</td>\n",
       "      <td>1.0</td>\n",
       "      <td>83807.86</td>\n",
       "      <td>1</td>\n",
       "      <td>0</td>\n",
       "      <td>1</td>\n",
       "      <td>112542.58</td>\n",
       "      <td>0</td>\n",
       "      <td>0</td>\n",
       "      <td>1</td>\n",
       "      <td>1</td>\n",
       "      <td>0</td>\n",
       "    </tr>\n",
       "    <tr>\n",
       "      <th>2</th>\n",
       "      <td>502</td>\n",
       "      <td>42</td>\n",
       "      <td>8.0</td>\n",
       "      <td>159660.80</td>\n",
       "      <td>3</td>\n",
       "      <td>1</td>\n",
       "      <td>0</td>\n",
       "      <td>113931.57</td>\n",
       "      <td>1</td>\n",
       "      <td>0</td>\n",
       "      <td>0</td>\n",
       "      <td>1</td>\n",
       "      <td>0</td>\n",
       "    </tr>\n",
       "    <tr>\n",
       "      <th>3</th>\n",
       "      <td>699</td>\n",
       "      <td>39</td>\n",
       "      <td>1.0</td>\n",
       "      <td>0.00</td>\n",
       "      <td>2</td>\n",
       "      <td>0</td>\n",
       "      <td>0</td>\n",
       "      <td>93826.63</td>\n",
       "      <td>1</td>\n",
       "      <td>0</td>\n",
       "      <td>0</td>\n",
       "      <td>1</td>\n",
       "      <td>0</td>\n",
       "    </tr>\n",
       "    <tr>\n",
       "      <th>4</th>\n",
       "      <td>850</td>\n",
       "      <td>43</td>\n",
       "      <td>2.0</td>\n",
       "      <td>125510.82</td>\n",
       "      <td>1</td>\n",
       "      <td>1</td>\n",
       "      <td>1</td>\n",
       "      <td>79084.10</td>\n",
       "      <td>0</td>\n",
       "      <td>0</td>\n",
       "      <td>1</td>\n",
       "      <td>1</td>\n",
       "      <td>0</td>\n",
       "    </tr>\n",
       "    <tr>\n",
       "      <th>...</th>\n",
       "      <td>...</td>\n",
       "      <td>...</td>\n",
       "      <td>...</td>\n",
       "      <td>...</td>\n",
       "      <td>...</td>\n",
       "      <td>...</td>\n",
       "      <td>...</td>\n",
       "      <td>...</td>\n",
       "      <td>...</td>\n",
       "      <td>...</td>\n",
       "      <td>...</td>\n",
       "      <td>...</td>\n",
       "      <td>...</td>\n",
       "    </tr>\n",
       "    <tr>\n",
       "      <th>9995</th>\n",
       "      <td>771</td>\n",
       "      <td>39</td>\n",
       "      <td>5.0</td>\n",
       "      <td>0.00</td>\n",
       "      <td>2</td>\n",
       "      <td>1</td>\n",
       "      <td>0</td>\n",
       "      <td>96270.64</td>\n",
       "      <td>1</td>\n",
       "      <td>0</td>\n",
       "      <td>0</td>\n",
       "      <td>0</td>\n",
       "      <td>1</td>\n",
       "    </tr>\n",
       "    <tr>\n",
       "      <th>9996</th>\n",
       "      <td>516</td>\n",
       "      <td>35</td>\n",
       "      <td>10.0</td>\n",
       "      <td>57369.61</td>\n",
       "      <td>1</td>\n",
       "      <td>1</td>\n",
       "      <td>1</td>\n",
       "      <td>101699.77</td>\n",
       "      <td>1</td>\n",
       "      <td>0</td>\n",
       "      <td>0</td>\n",
       "      <td>0</td>\n",
       "      <td>1</td>\n",
       "    </tr>\n",
       "    <tr>\n",
       "      <th>9997</th>\n",
       "      <td>709</td>\n",
       "      <td>36</td>\n",
       "      <td>7.0</td>\n",
       "      <td>0.00</td>\n",
       "      <td>1</td>\n",
       "      <td>0</td>\n",
       "      <td>1</td>\n",
       "      <td>42085.58</td>\n",
       "      <td>1</td>\n",
       "      <td>0</td>\n",
       "      <td>0</td>\n",
       "      <td>1</td>\n",
       "      <td>0</td>\n",
       "    </tr>\n",
       "    <tr>\n",
       "      <th>9998</th>\n",
       "      <td>772</td>\n",
       "      <td>42</td>\n",
       "      <td>3.0</td>\n",
       "      <td>75075.31</td>\n",
       "      <td>2</td>\n",
       "      <td>1</td>\n",
       "      <td>0</td>\n",
       "      <td>92888.52</td>\n",
       "      <td>0</td>\n",
       "      <td>1</td>\n",
       "      <td>0</td>\n",
       "      <td>0</td>\n",
       "      <td>1</td>\n",
       "    </tr>\n",
       "    <tr>\n",
       "      <th>9999</th>\n",
       "      <td>792</td>\n",
       "      <td>28</td>\n",
       "      <td>5.0</td>\n",
       "      <td>130142.79</td>\n",
       "      <td>1</td>\n",
       "      <td>1</td>\n",
       "      <td>0</td>\n",
       "      <td>38190.78</td>\n",
       "      <td>1</td>\n",
       "      <td>0</td>\n",
       "      <td>0</td>\n",
       "      <td>1</td>\n",
       "      <td>0</td>\n",
       "    </tr>\n",
       "  </tbody>\n",
       "</table>\n",
       "<p>10000 rows × 13 columns</p>\n",
       "</div>"
      ],
      "text/plain": [
       "      CreditScore  Age  Tenure    Balance  NumOfProducts  HasCrCard  \\\n",
       "0             619   42     2.0       0.00              1          1   \n",
       "1             608   41     1.0   83807.86              1          0   \n",
       "2             502   42     8.0  159660.80              3          1   \n",
       "3             699   39     1.0       0.00              2          0   \n",
       "4             850   43     2.0  125510.82              1          1   \n",
       "...           ...  ...     ...        ...            ...        ...   \n",
       "9995          771   39     5.0       0.00              2          1   \n",
       "9996          516   35    10.0   57369.61              1          1   \n",
       "9997          709   36     7.0       0.00              1          0   \n",
       "9998          772   42     3.0   75075.31              2          1   \n",
       "9999          792   28     5.0  130142.79              1          1   \n",
       "\n",
       "      IsActiveMember  EstimatedSalary  Geography_France  Geography_Germany  \\\n",
       "0                  1        101348.88                 1                  0   \n",
       "1                  1        112542.58                 0                  0   \n",
       "2                  0        113931.57                 1                  0   \n",
       "3                  0         93826.63                 1                  0   \n",
       "4                  1         79084.10                 0                  0   \n",
       "...              ...              ...               ...                ...   \n",
       "9995               0         96270.64                 1                  0   \n",
       "9996               1        101699.77                 1                  0   \n",
       "9997               1         42085.58                 1                  0   \n",
       "9998               0         92888.52                 0                  1   \n",
       "9999               0         38190.78                 1                  0   \n",
       "\n",
       "      Geography_Spain  Gender_Female  Gender_Male  \n",
       "0                   0              1            0  \n",
       "1                   1              1            0  \n",
       "2                   0              1            0  \n",
       "3                   0              1            0  \n",
       "4                   1              1            0  \n",
       "...               ...            ...          ...  \n",
       "9995                0              0            1  \n",
       "9996                0              0            1  \n",
       "9997                0              1            0  \n",
       "9998                0              0            1  \n",
       "9999                0              1            0  \n",
       "\n",
       "[10000 rows x 13 columns]"
      ]
     },
     "execution_count": 90,
     "metadata": {},
     "output_type": "execute_result"
    }
   ],
   "source": [
    "data_ohe=pd.get_dummies(data.drop( columns=['Exited','Surname', 'RowNumber', 'CustomerId', 'Surname'], axis=1),drop_first=False)\n",
    "data_ohe"
   ]
  },
  {
   "cell_type": "code",
   "execution_count": 91,
   "metadata": {},
   "outputs": [
    {
     "data": {
      "text/html": [
       "<div>\n",
       "<style scoped>\n",
       "    .dataframe tbody tr th:only-of-type {\n",
       "        vertical-align: middle;\n",
       "    }\n",
       "\n",
       "    .dataframe tbody tr th {\n",
       "        vertical-align: top;\n",
       "    }\n",
       "\n",
       "    .dataframe thead th {\n",
       "        text-align: right;\n",
       "    }\n",
       "</style>\n",
       "<table border=\"1\" class=\"dataframe\">\n",
       "  <thead>\n",
       "    <tr style=\"text-align: right;\">\n",
       "      <th></th>\n",
       "      <th>CreditScore</th>\n",
       "      <th>Age</th>\n",
       "      <th>Tenure</th>\n",
       "      <th>Balance</th>\n",
       "      <th>NumOfProducts</th>\n",
       "      <th>HasCrCard</th>\n",
       "      <th>IsActiveMember</th>\n",
       "      <th>EstimatedSalary</th>\n",
       "      <th>Geography_France</th>\n",
       "      <th>Geography_Germany</th>\n",
       "      <th>Geography_Spain</th>\n",
       "      <th>Gender_Female</th>\n",
       "      <th>Gender_Male</th>\n",
       "    </tr>\n",
       "  </thead>\n",
       "  <tbody>\n",
       "    <tr>\n",
       "      <th>0</th>\n",
       "      <td>619</td>\n",
       "      <td>42</td>\n",
       "      <td>2.0</td>\n",
       "      <td>0.00</td>\n",
       "      <td>1</td>\n",
       "      <td>1</td>\n",
       "      <td>1</td>\n",
       "      <td>101348.88</td>\n",
       "      <td>1</td>\n",
       "      <td>0</td>\n",
       "      <td>0</td>\n",
       "      <td>1</td>\n",
       "      <td>0</td>\n",
       "    </tr>\n",
       "    <tr>\n",
       "      <th>1</th>\n",
       "      <td>608</td>\n",
       "      <td>41</td>\n",
       "      <td>1.0</td>\n",
       "      <td>83807.86</td>\n",
       "      <td>1</td>\n",
       "      <td>0</td>\n",
       "      <td>1</td>\n",
       "      <td>112542.58</td>\n",
       "      <td>0</td>\n",
       "      <td>0</td>\n",
       "      <td>1</td>\n",
       "      <td>1</td>\n",
       "      <td>0</td>\n",
       "    </tr>\n",
       "    <tr>\n",
       "      <th>2</th>\n",
       "      <td>502</td>\n",
       "      <td>42</td>\n",
       "      <td>8.0</td>\n",
       "      <td>159660.80</td>\n",
       "      <td>3</td>\n",
       "      <td>1</td>\n",
       "      <td>0</td>\n",
       "      <td>113931.57</td>\n",
       "      <td>1</td>\n",
       "      <td>0</td>\n",
       "      <td>0</td>\n",
       "      <td>1</td>\n",
       "      <td>0</td>\n",
       "    </tr>\n",
       "    <tr>\n",
       "      <th>3</th>\n",
       "      <td>699</td>\n",
       "      <td>39</td>\n",
       "      <td>1.0</td>\n",
       "      <td>0.00</td>\n",
       "      <td>2</td>\n",
       "      <td>0</td>\n",
       "      <td>0</td>\n",
       "      <td>93826.63</td>\n",
       "      <td>1</td>\n",
       "      <td>0</td>\n",
       "      <td>0</td>\n",
       "      <td>1</td>\n",
       "      <td>0</td>\n",
       "    </tr>\n",
       "    <tr>\n",
       "      <th>4</th>\n",
       "      <td>850</td>\n",
       "      <td>43</td>\n",
       "      <td>2.0</td>\n",
       "      <td>125510.82</td>\n",
       "      <td>1</td>\n",
       "      <td>1</td>\n",
       "      <td>1</td>\n",
       "      <td>79084.10</td>\n",
       "      <td>0</td>\n",
       "      <td>0</td>\n",
       "      <td>1</td>\n",
       "      <td>1</td>\n",
       "      <td>0</td>\n",
       "    </tr>\n",
       "    <tr>\n",
       "      <th>...</th>\n",
       "      <td>...</td>\n",
       "      <td>...</td>\n",
       "      <td>...</td>\n",
       "      <td>...</td>\n",
       "      <td>...</td>\n",
       "      <td>...</td>\n",
       "      <td>...</td>\n",
       "      <td>...</td>\n",
       "      <td>...</td>\n",
       "      <td>...</td>\n",
       "      <td>...</td>\n",
       "      <td>...</td>\n",
       "      <td>...</td>\n",
       "    </tr>\n",
       "    <tr>\n",
       "      <th>9995</th>\n",
       "      <td>771</td>\n",
       "      <td>39</td>\n",
       "      <td>5.0</td>\n",
       "      <td>0.00</td>\n",
       "      <td>2</td>\n",
       "      <td>1</td>\n",
       "      <td>0</td>\n",
       "      <td>96270.64</td>\n",
       "      <td>1</td>\n",
       "      <td>0</td>\n",
       "      <td>0</td>\n",
       "      <td>0</td>\n",
       "      <td>1</td>\n",
       "    </tr>\n",
       "    <tr>\n",
       "      <th>9996</th>\n",
       "      <td>516</td>\n",
       "      <td>35</td>\n",
       "      <td>10.0</td>\n",
       "      <td>57369.61</td>\n",
       "      <td>1</td>\n",
       "      <td>1</td>\n",
       "      <td>1</td>\n",
       "      <td>101699.77</td>\n",
       "      <td>1</td>\n",
       "      <td>0</td>\n",
       "      <td>0</td>\n",
       "      <td>0</td>\n",
       "      <td>1</td>\n",
       "    </tr>\n",
       "    <tr>\n",
       "      <th>9997</th>\n",
       "      <td>709</td>\n",
       "      <td>36</td>\n",
       "      <td>7.0</td>\n",
       "      <td>0.00</td>\n",
       "      <td>1</td>\n",
       "      <td>0</td>\n",
       "      <td>1</td>\n",
       "      <td>42085.58</td>\n",
       "      <td>1</td>\n",
       "      <td>0</td>\n",
       "      <td>0</td>\n",
       "      <td>1</td>\n",
       "      <td>0</td>\n",
       "    </tr>\n",
       "    <tr>\n",
       "      <th>9998</th>\n",
       "      <td>772</td>\n",
       "      <td>42</td>\n",
       "      <td>3.0</td>\n",
       "      <td>75075.31</td>\n",
       "      <td>2</td>\n",
       "      <td>1</td>\n",
       "      <td>0</td>\n",
       "      <td>92888.52</td>\n",
       "      <td>0</td>\n",
       "      <td>1</td>\n",
       "      <td>0</td>\n",
       "      <td>0</td>\n",
       "      <td>1</td>\n",
       "    </tr>\n",
       "    <tr>\n",
       "      <th>9999</th>\n",
       "      <td>792</td>\n",
       "      <td>28</td>\n",
       "      <td>5.0</td>\n",
       "      <td>130142.79</td>\n",
       "      <td>1</td>\n",
       "      <td>1</td>\n",
       "      <td>0</td>\n",
       "      <td>38190.78</td>\n",
       "      <td>1</td>\n",
       "      <td>0</td>\n",
       "      <td>0</td>\n",
       "      <td>1</td>\n",
       "      <td>0</td>\n",
       "    </tr>\n",
       "  </tbody>\n",
       "</table>\n",
       "<p>10000 rows × 13 columns</p>\n",
       "</div>"
      ],
      "text/plain": [
       "      CreditScore  Age  Tenure    Balance  NumOfProducts  HasCrCard  \\\n",
       "0             619   42     2.0       0.00              1          1   \n",
       "1             608   41     1.0   83807.86              1          0   \n",
       "2             502   42     8.0  159660.80              3          1   \n",
       "3             699   39     1.0       0.00              2          0   \n",
       "4             850   43     2.0  125510.82              1          1   \n",
       "...           ...  ...     ...        ...            ...        ...   \n",
       "9995          771   39     5.0       0.00              2          1   \n",
       "9996          516   35    10.0   57369.61              1          1   \n",
       "9997          709   36     7.0       0.00              1          0   \n",
       "9998          772   42     3.0   75075.31              2          1   \n",
       "9999          792   28     5.0  130142.79              1          1   \n",
       "\n",
       "      IsActiveMember  EstimatedSalary  Geography_France  Geography_Germany  \\\n",
       "0                  1        101348.88                 1                  0   \n",
       "1                  1        112542.58                 0                  0   \n",
       "2                  0        113931.57                 1                  0   \n",
       "3                  0         93826.63                 1                  0   \n",
       "4                  1         79084.10                 0                  0   \n",
       "...              ...              ...               ...                ...   \n",
       "9995               0         96270.64                 1                  0   \n",
       "9996               1        101699.77                 1                  0   \n",
       "9997               1         42085.58                 1                  0   \n",
       "9998               0         92888.52                 0                  1   \n",
       "9999               0         38190.78                 1                  0   \n",
       "\n",
       "      Geography_Spain  Gender_Female  Gender_Male  \n",
       "0                   0              1            0  \n",
       "1                   1              1            0  \n",
       "2                   0              1            0  \n",
       "3                   0              1            0  \n",
       "4                   1              1            0  \n",
       "...               ...            ...          ...  \n",
       "9995                0              0            1  \n",
       "9996                0              0            1  \n",
       "9997                0              1            0  \n",
       "9998                0              0            1  \n",
       "9999                0              1            0  \n",
       "\n",
       "[10000 rows x 13 columns]"
      ]
     },
     "execution_count": 91,
     "metadata": {},
     "output_type": "execute_result"
    }
   ],
   "source": [
    "data_ohe"
   ]
  },
  {
   "cell_type": "code",
   "execution_count": 92,
   "metadata": {},
   "outputs": [
    {
     "name": "stdout",
     "output_type": "stream",
     "text": [
      "<class 'pandas.core.frame.DataFrame'>\n",
      "RangeIndex: 10000 entries, 0 to 9999\n",
      "Data columns (total 13 columns):\n",
      " #   Column             Non-Null Count  Dtype  \n",
      "---  ------             --------------  -----  \n",
      " 0   CreditScore        10000 non-null  int64  \n",
      " 1   Age                10000 non-null  int64  \n",
      " 2   Tenure             10000 non-null  float64\n",
      " 3   Balance            10000 non-null  float64\n",
      " 4   NumOfProducts      10000 non-null  int64  \n",
      " 5   HasCrCard          10000 non-null  int64  \n",
      " 6   IsActiveMember     10000 non-null  int64  \n",
      " 7   EstimatedSalary    10000 non-null  float64\n",
      " 8   Geography_France   10000 non-null  uint8  \n",
      " 9   Geography_Germany  10000 non-null  uint8  \n",
      " 10  Geography_Spain    10000 non-null  uint8  \n",
      " 11  Gender_Female      10000 non-null  uint8  \n",
      " 12  Gender_Male        10000 non-null  uint8  \n",
      "dtypes: float64(3), int64(5), uint8(5)\n",
      "memory usage: 674.0 KB\n"
     ]
    }
   ],
   "source": [
    "data_ohe.info()"
   ]
  },
  {
   "cell_type": "code",
   "execution_count": 93,
   "metadata": {},
   "outputs": [],
   "source": [
    "features_data = data_ohe\n",
    "target_data = data['Exited']"
   ]
  },
  {
   "cell_type": "code",
   "execution_count": 94,
   "metadata": {},
   "outputs": [],
   "source": [
    "features_test, features, target_test, target = train_test_split(features_data, target_data, test_size=0.80, random_state=12345)"
   ]
  },
  {
   "cell_type": "code",
   "execution_count": 95,
   "metadata": {},
   "outputs": [],
   "source": [
    "features_train, features_valid, target_train, target_valid = train_test_split(\n",
    "    features, target, test_size=0.25, random_state=12345)"
   ]
  },
  {
   "cell_type": "code",
   "execution_count": 96,
   "metadata": {
    "scrolled": true
   },
   "outputs": [
    {
     "name": "stdout",
     "output_type": "stream",
     "text": [
      "El tamaño de dataset de entrenamiento es:  (6000, 13)\n",
      "El tamaño de dataset de prueba es:  (2000, 13)\n",
      "El tamaño de dataset de validación es:  (2000, 13)\n"
     ]
    }
   ],
   "source": [
    "print('El tamaño de dataset de entrenamiento es: ', features_train.shape)\n",
    "print('El tamaño de dataset de prueba es: ',features_test.shape) \n",
    "print('El tamaño de dataset de validación es: ',features_valid.shape)"
   ]
  },
  {
   "cell_type": "code",
   "execution_count": 97,
   "metadata": {},
   "outputs": [],
   "source": [
    "# Escalado de las variables numericas \n",
    "\n",
    "numeric=['CreditScore', 'Age', 'Tenure', 'Balance', 'NumOfProducts', 'EstimatedSalary']\n",
    "\n",
    "scaler = StandardScaler()\n",
    "scaler.fit(features_train[numeric])\n",
    "\n",
    "features_train_scaled = scaler.transform(features_train[numeric])\n",
    "features_valid_scaled = scaler.transform(features_valid[numeric]) \n"
   ]
  },
  {
   "cell_type": "code",
   "execution_count": 98,
   "metadata": {},
   "outputs": [
    {
     "name": "stdout",
     "output_type": "stream",
     "text": [
      "Escalado de caracteristicas de entrenamiento: \n",
      "[[-1.43353871  0.1165898   1.10358891  1.23475042  0.82668454 -1.35058141]\n",
      " [-1.48537585 -0.65403957  0.74248658 -1.22611887  0.82668454 -0.57214154]\n",
      " [-1.2780273  -0.65403957 -1.78522974 -1.22611887 -0.91126474  0.15025158]\n",
      " ...\n",
      " [ 0.03863595 -0.65403957 -1.06302508 -1.22611887 -0.91126474 -0.84918872]\n",
      " [ 1.09611352  2.71746394 -0.34082042 -1.22611887  2.56463382 -0.13528332]\n",
      " [ 0.80582556 -0.17239621 -1.78522974 -1.22611887  0.82668454 -0.49785563]]\n",
      "\n",
      "Escalado de caracteristicas de validación: \n",
      "[[ 1.29309463 -0.26872488 -1.06302508  0.53612239  0.82668454 -0.50690792]\n",
      " [-1.75492895  0.50190449  1.46469124  1.58360331 -0.91126474 -0.61426582]\n",
      " [ 0.18377993 -0.65403957  0.74248658 -1.22611887  0.82668454 -1.73825983]\n",
      " ...\n",
      " [-1.28839473 -0.26872488 -1.78522974 -1.22611887  0.82668454 -0.05390957]\n",
      " [-0.97737192  0.40557582  0.02028191 -1.22611887  2.56463382  0.42169695]\n",
      " [ 1.50044317 -0.36505356  0.02028191 -1.22611887  0.82668454  1.15109021]]\n"
     ]
    }
   ],
   "source": [
    "print('Escalado de caracteristicas de entrenamiento: ')\n",
    "print(features_train_scaled)\n",
    "print()\n",
    "print('Escalado de caracteristicas de validación: ')\n",
    "print(features_valid_scaled)"
   ]
  },
  {
   "cell_type": "markdown",
   "metadata": {},
   "source": [
    "[Regresar a Contenido](#back)"
   ]
  },
  {
   "cell_type": "markdown",
   "metadata": {},
   "source": [
    "## 3. EDA  <a id='eda'></a>"
   ]
  },
  {
   "cell_type": "markdown",
   "metadata": {},
   "source": [
    "## Examina el equilibrio de clases"
   ]
  },
  {
   "cell_type": "markdown",
   "metadata": {},
   "source": [
    "Se revisa el desequilibrio "
   ]
  },
  {
   "cell_type": "code",
   "execution_count": 99,
   "metadata": {
    "scrolled": true
   },
   "outputs": [
    {
     "data": {
      "image/png": "[encoded data removed]",
      "text/plain": [
       "<Figure size 432x288 with 1 Axes>"
      ]
     },
     "metadata": {
      "needs_background": "light"
     },
     "output_type": "display_data"
    }
   ],
   "source": [
    "count_classes = pd.value_counts(data['Exited'], sort = True)\n",
    "count_classes.plot(kind = 'bar')\n",
    "plt.title(\"Desequilibrio\")\n",
    "plt.xlabel(\"Clase\")\n",
    "plt.ylabel(\"Numero de clientes\")\n",
    "plt.show()"
   ]
  },
  {
   "cell_type": "markdown",
   "metadata": {},
   "source": [
    "Como podemos observar en la grafica el desequilibrio de clases sobre si el cliente se fue o no."
   ]
  },
  {
   "cell_type": "markdown",
   "metadata": {},
   "source": [
    "Se procede a calcular la frecuencia relativa utilizando el método value_counts, dividiendo el número de clases entre el tamaño del conjunto"
   ]
  },
  {
   "cell_type": "code",
   "execution_count": 100,
   "metadata": {},
   "outputs": [
    {
     "name": "stdout",
     "output_type": "stream",
     "text": [
      "0    0.7963\n",
      "1    0.2037\n",
      "Name: Exited, dtype: float64\n"
     ]
    },
    {
     "data": {
      "image/png": "[encoded data removed]",
      "text/plain": [
       "<Figure size 432x288 with 1 Axes>"
      ]
     },
     "metadata": {
      "needs_background": "light"
     },
     "output_type": "display_data"
    }
   ],
   "source": [
    "# Frecuencia relativa\n",
    "\n",
    "frequency_relative= data['Exited'].value_counts(normalize=True)\n",
    "\n",
    "print(frequency_relative)\n",
    "\n",
    "frequency_relative.plot(kind='bar')\n",
    "plt.title(\"Frecuencia\")\n",
    "plt.xlabel(\"Clase\")\n",
    "plt.ylabel(\"Numero de clientes\")\n",
    "plt.show()"
   ]
  },
  {
   "cell_type": "markdown",
   "metadata": {},
   "source": [
    "Se calcula la frecuencia de clase de las predicciones.\n",
    "\n",
    "[Regresar a Contenido](#back)"
   ]
  },
  {
   "cell_type": "markdown",
   "metadata": {},
   "source": [
    "## 4. Evaluación de modelos <a id='model_evaluation'></a>"
   ]
  },
  {
   "cell_type": "markdown",
   "metadata": {},
   "source": [
    "### Entrena el modelo Regresión Logística"
   ]
  },
  {
   "cell_type": "markdown",
   "metadata": {},
   "source": [
    "Se comenzó realizando el entrenamiento del modelo de regresión logística"
   ]
  },
  {
   "cell_type": "code",
   "execution_count": 101,
   "metadata": {
    "scrolled": true
   },
   "outputs": [
    {
     "name": "stdout",
     "output_type": "stream",
     "text": [
      "La exactitud de datos de validación es:  0.784\n",
      "La exactitud de datos de entrenamiento es:  0.7955\n"
     ]
    }
   ],
   "source": [
    "model_reg_log = LogisticRegression(random_state=12345, solver='liblinear')\n",
    "model_reg_log.fit(features_train, target_train)\n",
    "\n",
    "predictions_valid_reg_log = model_reg_log.predict(features_valid)\n",
    "predictions_train_reg_log = model_reg_log.predict(features_train)\n",
    "\n",
    "accuracy_valid_reg_log = accuracy_score(target_valid, predictions_valid_reg_log)\n",
    "accuracy_train_reg_log = accuracy_score(target_train, predictions_train_reg_log)\n",
    "\n",
    "print('La exactitud de datos de validación es: ', accuracy_valid_reg_log)\n",
    "print('La exactitud de datos de entrenamiento es: ', accuracy_train_reg_log)"
   ]
  },
  {
   "cell_type": "code",
   "execution_count": 102,
   "metadata": {},
   "outputs": [
    {
     "name": "stdout",
     "output_type": "stream",
     "text": [
      "0    0.967\n",
      "1    0.033\n",
      "dtype: float64\n"
     ]
    },
    {
     "data": {
      "text/plain": [
       "<AxesSubplot:>"
      ]
     },
     "execution_count": 102,
     "metadata": {},
     "output_type": "execute_result"
    },
    {
     "data": {
      "image/png": "[encoded data removed]",
      "text/plain": [
       "<Figure size 432x288 with 1 Axes>"
      ]
     },
     "metadata": {
      "needs_background": "light"
     },
     "output_type": "display_data"
    }
   ],
   "source": [
    "# Frecuenciade clase de las predicciones\n",
    "\n",
    "predicted_valid = pd.Series(model_reg_log.predict(features_valid))\n",
    "\n",
    "class_frequency= predicted_valid.value_counts(normalize=True)\n",
    "print(class_frequency)\n",
    "\n",
    "class_frequency.plot(kind = 'bar')\n"
   ]
  },
  {
   "cell_type": "code",
   "execution_count": 103,
   "metadata": {},
   "outputs": [
    {
     "name": "stdout",
     "output_type": "stream",
     "text": [
      "0.8\n"
     ]
    }
   ],
   "source": [
    "# Modelo contante  para predecir la clase \"0\" para cualquier observación\n",
    "\n",
    "train_predictions_reg_log = model_reg_log.predict(features)\n",
    "\n",
    "target_pred_constant = pd.Series(0, index=target.index)\n",
    "\n",
    "print(accuracy_score(target, target_pred_constant))\n"
   ]
  },
  {
   "cell_type": "markdown",
   "metadata": {},
   "source": [
    "Ahora se revisará el equilibrio y desequilibrio de las clases, revisando los VP, VN, FP y FN, dependiendo de las respuestas con las predicciones. Una vez que lo obtenemos calculamos la sencibilidad recall utilizando la función recall_score() y la presición con la función precision_score() para calcular la calidad de las predicciones de las clase positiva. posterormente se calcula la metrica de agregación el \"valor F1\"."
   ]
  },
  {
   "cell_type": "code",
   "execution_count": 104,
   "metadata": {},
   "outputs": [
    {
     "data": {
      "text/plain": [
       "26"
      ]
     },
     "execution_count": 104,
     "metadata": {},
     "output_type": "execute_result"
    }
   ],
   "source": [
    "# Respuestas verdaderos positivos\n",
    "\n",
    "(((target_valid==1)&(predictions_valid_reg_log==1)).sum())\n",
    " "
   ]
  },
  {
   "cell_type": "code",
   "execution_count": 105,
   "metadata": {},
   "outputs": [
    {
     "data": {
      "text/plain": [
       "1542"
      ]
     },
     "execution_count": 105,
     "metadata": {},
     "output_type": "execute_result"
    }
   ],
   "source": [
    "# Respuestas verdaderos negativos\n",
    "\n",
    "(((target_valid==0)&(predictions_valid_reg_log==0)).sum())"
   ]
  },
  {
   "cell_type": "code",
   "execution_count": 106,
   "metadata": {},
   "outputs": [
    {
     "data": {
      "text/plain": [
       "40"
      ]
     },
     "execution_count": 106,
     "metadata": {},
     "output_type": "execute_result"
    }
   ],
   "source": [
    "# Respuestas falsos positivos\n",
    "\n",
    "(((target_valid==0)&(predictions_valid_reg_log==1)).sum())"
   ]
  },
  {
   "cell_type": "code",
   "execution_count": 107,
   "metadata": {},
   "outputs": [
    {
     "data": {
      "text/plain": [
       "392"
      ]
     },
     "execution_count": 107,
     "metadata": {},
     "output_type": "execute_result"
    }
   ],
   "source": [
    "# Respuestas falsos negativos\n",
    "\n",
    "(((target_valid==1)&(predictions_valid_reg_log==0)).sum())"
   ]
  },
  {
   "cell_type": "code",
   "execution_count": 108,
   "metadata": {},
   "outputs": [
    {
     "data": {
      "text/plain": [
       "array([[1542,   40],\n",
       "       [ 392,   26]])"
      ]
     },
     "execution_count": 108,
     "metadata": {},
     "output_type": "execute_result"
    }
   ],
   "source": [
    "# Matriz de confusión\n",
    "\n",
    "confusion_matrix(target_valid, predictions_valid_reg_log)"
   ]
  },
  {
   "cell_type": "code",
   "execution_count": 109,
   "metadata": {},
   "outputs": [
    {
     "data": {
      "text/plain": [
       "0.06220095693779904"
      ]
     },
     "execution_count": 109,
     "metadata": {},
     "output_type": "execute_result"
    }
   ],
   "source": [
    "# Recall\n",
    "\n",
    "recall_reg_log = recall_score(target_valid, predictions_valid_reg_log)\n",
    "recall_reg_log"
   ]
  },
  {
   "cell_type": "code",
   "execution_count": 110,
   "metadata": {},
   "outputs": [
    {
     "data": {
      "text/plain": [
       "0.3939393939393939"
      ]
     },
     "execution_count": 110,
     "metadata": {},
     "output_type": "execute_result"
    }
   ],
   "source": [
    "# Presición\n",
    "\n",
    "precision_reg_log = precision_score(target_valid, predictions_valid_reg_log)\n",
    "precision_reg_log "
   ]
  },
  {
   "cell_type": "code",
   "execution_count": 111,
   "metadata": {},
   "outputs": [
    {
     "data": {
      "text/plain": [
       "0.10743801652892562"
      ]
     },
     "execution_count": 111,
     "metadata": {},
     "output_type": "execute_result"
    }
   ],
   "source": [
    "# Valor F1\n",
    "\n",
    "f1_reg_log = f1_score(target_valid, predictions_valid_reg_log)\n",
    "f1_reg_log"
   ]
  },
  {
   "cell_type": "code",
   "execution_count": 112,
   "metadata": {},
   "outputs": [
    {
     "name": "stdout",
     "output_type": "stream",
     "text": [
      "Recall de Regresión Lógica: 0.06220095693779904\n",
      "Precisión de Regresión Lógica: 0.3939393939393939\n",
      "Puntuación F1 de Regresión Lógica 0.10743801652892562\n"
     ]
    }
   ],
   "source": [
    "print('Recall de Regresión Lógica:', recall_reg_log)\n",
    "print('Precisión de Regresión Lógica:', precision_reg_log)\n",
    "print('Puntuación F1 de Regresión Lógica', f1_reg_log)\n"
   ]
  },
  {
   "cell_type": "markdown",
   "metadata": {},
   "source": [
    "Podemos indicar que los valores de recall, presicion y F1, al tener valores diferentes de recall y precisión, obtenemos un F1 cercano a cero lo que nos indica que la prediccion de la clase 1 ha fallado."
   ]
  },
  {
   "cell_type": "markdown",
   "metadata": {},
   "source": [
    "### Entrena el modelo de Árbol de Decisión"
   ]
  },
  {
   "cell_type": "markdown",
   "metadata": {},
   "source": [
    "Se comenzó realizando el entrenamiento del modelo de Árbol de desición."
   ]
  },
  {
   "cell_type": "code",
   "execution_count": 113,
   "metadata": {
    "scrolled": true
   },
   "outputs": [
    {
     "name": "stdout",
     "output_type": "stream",
     "text": [
      "La exactitud de datos de validación es:  0.7945\n",
      "La exactitud de datos de entrenamiento es:  1.0\n"
     ]
    }
   ],
   "source": [
    "model_tree = DecisionTreeClassifier(random_state=12345)\n",
    "model_tree.fit(features_train, target_train)\n",
    "\n",
    "predictions_valid_tree = model_tree.predict(features_valid)\n",
    "predictions_train_tree = model_tree.predict(features_train)\n",
    "\n",
    "accuracy_valid_tree = accuracy_score(target_valid, predictions_valid_tree)\n",
    "accuracy_train_tree = accuracy_score(target_train, predictions_train_tree)\n",
    "\n",
    "print('La exactitud de datos de validación es: ', accuracy_valid_tree)\n",
    "print('La exactitud de datos de entrenamiento es: ', accuracy_train_tree)"
   ]
  },
  {
   "cell_type": "code",
   "execution_count": 114,
   "metadata": {
    "scrolled": true
   },
   "outputs": [
    {
     "name": "stdout",
     "output_type": "stream",
     "text": [
      "0    0.7865\n",
      "1    0.2135\n",
      "dtype: float64\n"
     ]
    },
    {
     "data": {
      "text/plain": [
       "<AxesSubplot:>"
      ]
     },
     "execution_count": 114,
     "metadata": {},
     "output_type": "execute_result"
    },
    {
     "data": {
      "image/png": "[encoded data removed]",
      "text/plain": [
       "<Figure size 432x288 with 1 Axes>"
      ]
     },
     "metadata": {
      "needs_background": "light"
     },
     "output_type": "display_data"
    }
   ],
   "source": [
    "# Frecuenciade clase de las predicciones\n",
    "\n",
    "predicted_valid = pd.Series(model_tree.predict(features_valid))\n",
    "\n",
    "class_frequency= predicted_valid.value_counts(normalize=True)\n",
    "print(class_frequency)\n",
    "\n",
    "class_frequency.plot(kind = 'bar')\n"
   ]
  },
  {
   "cell_type": "code",
   "execution_count": 115,
   "metadata": {},
   "outputs": [
    {
     "name": "stdout",
     "output_type": "stream",
     "text": [
      "0.8\n"
     ]
    }
   ],
   "source": [
    "# Modelo contante  para predecir la clase \"0\" para cualquier observación\n",
    "\n",
    "train_predictions = model_tree.predict(features)\n",
    "\n",
    "target_pred_constant = pd.Series(0, index=target.index)\n",
    "\n",
    "print(accuracy_score(target, target_pred_constant))\n"
   ]
  },
  {
   "cell_type": "code",
   "execution_count": 116,
   "metadata": {},
   "outputs": [
    {
     "data": {
      "text/plain": [
       "217"
      ]
     },
     "execution_count": 116,
     "metadata": {},
     "output_type": "execute_result"
    }
   ],
   "source": [
    "# Respuestas verdaderos positivos\n",
    "\n",
    "(((target_valid==1)&(predictions_valid_tree==1)).sum())\n",
    " "
   ]
  },
  {
   "cell_type": "code",
   "execution_count": 117,
   "metadata": {},
   "outputs": [
    {
     "data": {
      "text/plain": [
       "1372"
      ]
     },
     "execution_count": 117,
     "metadata": {},
     "output_type": "execute_result"
    }
   ],
   "source": [
    "# Respuestas verdaderos negativos\n",
    "\n",
    "(((target_valid==0)&(predictions_valid_tree==0)).sum())"
   ]
  },
  {
   "cell_type": "code",
   "execution_count": 118,
   "metadata": {},
   "outputs": [
    {
     "data": {
      "text/plain": [
       "210"
      ]
     },
     "execution_count": 118,
     "metadata": {},
     "output_type": "execute_result"
    }
   ],
   "source": [
    "# Respuestas falsos positivos\n",
    "\n",
    "(((target_valid==0)&(predictions_valid_tree==1)).sum())"
   ]
  },
  {
   "cell_type": "code",
   "execution_count": 119,
   "metadata": {},
   "outputs": [
    {
     "data": {
      "text/plain": [
       "201"
      ]
     },
     "execution_count": 119,
     "metadata": {},
     "output_type": "execute_result"
    }
   ],
   "source": [
    "# Respuestas falsos negativos\n",
    "\n",
    "(((target_valid==1)&(predictions_valid_tree==0)).sum())"
   ]
  },
  {
   "cell_type": "code",
   "execution_count": 120,
   "metadata": {},
   "outputs": [
    {
     "data": {
      "text/plain": [
       "array([[1372,  210],\n",
       "       [ 201,  217]])"
      ]
     },
     "execution_count": 120,
     "metadata": {},
     "output_type": "execute_result"
    }
   ],
   "source": [
    "# Matriz de confusión\n",
    "\n",
    "confusion_matrix(target_valid, predictions_valid_tree)"
   ]
  },
  {
   "cell_type": "code",
   "execution_count": 121,
   "metadata": {},
   "outputs": [
    {
     "data": {
      "text/plain": [
       "0.5191387559808612"
      ]
     },
     "execution_count": 121,
     "metadata": {},
     "output_type": "execute_result"
    }
   ],
   "source": [
    "# Recall\n",
    "\n",
    "recall_tree = recall_score(target_valid, predictions_valid_tree)\n",
    "recall_tree"
   ]
  },
  {
   "cell_type": "code",
   "execution_count": 122,
   "metadata": {},
   "outputs": [
    {
     "data": {
      "text/plain": [
       "0.5081967213114754"
      ]
     },
     "execution_count": 122,
     "metadata": {},
     "output_type": "execute_result"
    }
   ],
   "source": [
    "# Presición\n",
    "\n",
    "precision_tree = precision_score(target_valid, predictions_valid_tree)\n",
    "precision_tree "
   ]
  },
  {
   "cell_type": "code",
   "execution_count": 123,
   "metadata": {},
   "outputs": [
    {
     "data": {
      "text/plain": [
       "0.5136094674556213"
      ]
     },
     "execution_count": 123,
     "metadata": {},
     "output_type": "execute_result"
    }
   ],
   "source": [
    "# Valor F1\n",
    "\n",
    "f1_tree = f1_score(target_valid, predictions_valid_tree)\n",
    "f1_tree"
   ]
  },
  {
   "cell_type": "code",
   "execution_count": 124,
   "metadata": {},
   "outputs": [
    {
     "name": "stdout",
     "output_type": "stream",
     "text": [
      "Recall de Árbol de Decisión: 0.5191387559808612\n",
      "Precisión de Árbol de Decisión: 0.5081967213114754\n",
      "Puntuación F1 de Árbol de Decisión 0.5136094674556213\n"
     ]
    }
   ],
   "source": [
    "print('Recall de Árbol de Decisión:', recall_tree)\n",
    "print('Precisión de Árbol de Decisión:', precision_tree)\n",
    "print('Puntuación F1 de Árbol de Decisión', f1_tree)\n"
   ]
  },
  {
   "cell_type": "markdown",
   "metadata": {},
   "source": [
    "Podemos indicar que los valores de recall, presicion y F1, al tener valores más semejantes de recall y precisión, obtenemos un F1 con valores parecidos, lo que nos indica que la prediccion de la clase 1 es mejor."
   ]
  },
  {
   "cell_type": "markdown",
   "metadata": {},
   "source": [
    "### Entrena el modelo de Bosques Aleatorios"
   ]
  },
  {
   "cell_type": "markdown",
   "metadata": {},
   "source": [
    "Se comenzó realizando el entrenamiento del modelo de Bosques Aleatorios."
   ]
  },
  {
   "cell_type": "code",
   "execution_count": 125,
   "metadata": {},
   "outputs": [
    {
     "name": "stdout",
     "output_type": "stream",
     "text": [
      "Accuracy del mejor modelo en el conjunto de validación (n_estimators = 5): 0.838\n"
     ]
    }
   ],
   "source": [
    "best_score_f = 0\n",
    "best_est_f = 0\n",
    "for est in range(1, 10): \n",
    "    model_f = RandomForestClassifier(random_state=54321, n_estimators=est) \n",
    "    model_f.fit(features_train, target_train) \n",
    "    score = model_f.score(features_valid, target_valid) \n",
    "    if score > best_score_f:\n",
    "        best_score_f = score\n",
    "        best_est_f = est \n",
    "\n",
    "print(\"Accuracy del mejor modelo en el conjunto de validación (n_estimators = {}): {}\".format(best_est_f, best_score_f))\n"
   ]
  },
  {
   "cell_type": "code",
   "execution_count": 126,
   "metadata": {
    "scrolled": true
   },
   "outputs": [
    {
     "name": "stdout",
     "output_type": "stream",
     "text": [
      "La exactitud de datos de validación es:  0.8355\n",
      "La exactitud de datos de entrenamiento es:  0.9833333333333333\n"
     ]
    }
   ],
   "source": [
    "model_forest = RandomForestClassifier(random_state=54321, n_estimators=8) \n",
    "model_forest.fit(features_train, target_train)\n",
    "\n",
    "predictions_valid_forest = model_forest.predict(features_valid)\n",
    "predictions_train_forest = model_forest.predict(features_train)\n",
    "\n",
    "accuracy_valid_forest = accuracy_score(target_valid, predictions_valid_forest)\n",
    "accuracy_train_forest = accuracy_score(target_train, predictions_train_forest)\n",
    "\n",
    "print('La exactitud de datos de validación es: ', accuracy_valid_forest)\n",
    "print('La exactitud de datos de entrenamiento es: ', accuracy_train_forest)\n"
   ]
  },
  {
   "cell_type": "markdown",
   "metadata": {},
   "source": [
    "En este caso pordemo sindicar que la exactitud en los 3 modelos con respecto a los conjuntos de datos de validación y entrenamiento, es semejante o parecida, cone xceptción de la del árbol de decisión donde si tienen una diferencia considerable, sin embargo, los valores más semejantes y con mayor exactitud es el modelo de bosque aleatoreo, con valores más cercanos a 1, lo que representa una mayor exactitud en las predicciones de estos."
   ]
  },
  {
   "cell_type": "code",
   "execution_count": 127,
   "metadata": {
    "scrolled": true
   },
   "outputs": [
    {
     "name": "stdout",
     "output_type": "stream",
     "text": [
      "0    0.8795\n",
      "1    0.1205\n",
      "dtype: float64\n"
     ]
    },
    {
     "data": {
      "text/plain": [
       "<AxesSubplot:>"
      ]
     },
     "execution_count": 127,
     "metadata": {},
     "output_type": "execute_result"
    },
    {
     "data": {
      "image/png": "[encoded data removed]",
      "text/plain": [
       "<Figure size 432x288 with 1 Axes>"
      ]
     },
     "metadata": {
      "needs_background": "light"
     },
     "output_type": "display_data"
    }
   ],
   "source": [
    "# Frecuenciade clase de las predicciones\n",
    "\n",
    "predicted_valid = pd.Series(model_forest.predict(features_valid))\n",
    "\n",
    "class_frequency= predicted_valid.value_counts(normalize=True)\n",
    "print(class_frequency)\n",
    "\n",
    "class_frequency.plot(kind = 'bar')\n"
   ]
  },
  {
   "cell_type": "code",
   "execution_count": 128,
   "metadata": {},
   "outputs": [
    {
     "name": "stdout",
     "output_type": "stream",
     "text": [
      "0.8\n"
     ]
    }
   ],
   "source": [
    "# Modelo contante  para predecir la clase \"0\" para cualquier observación\n",
    "\n",
    "train_predictions = model_forest.predict(features)\n",
    "\n",
    "target_pred_constant = pd.Series(0, index=target.index)\n",
    "\n",
    "print(accuracy_score(target, target_pred_constant))\n"
   ]
  },
  {
   "cell_type": "code",
   "execution_count": 129,
   "metadata": {},
   "outputs": [
    {
     "data": {
      "text/plain": [
       "165"
      ]
     },
     "execution_count": 129,
     "metadata": {},
     "output_type": "execute_result"
    }
   ],
   "source": [
    "# Respuestas verdaderos positivos\n",
    "\n",
    "(((target_valid==1)&(predictions_valid_forest==1)).sum())\n",
    " "
   ]
  },
  {
   "cell_type": "code",
   "execution_count": 130,
   "metadata": {},
   "outputs": [
    {
     "data": {
      "text/plain": [
       "1506"
      ]
     },
     "execution_count": 130,
     "metadata": {},
     "output_type": "execute_result"
    }
   ],
   "source": [
    "# Respuestas verdaderos negativos\n",
    "\n",
    "(((target_valid==0)&(predictions_valid_forest==0)).sum())"
   ]
  },
  {
   "cell_type": "code",
   "execution_count": 131,
   "metadata": {},
   "outputs": [
    {
     "data": {
      "text/plain": [
       "76"
      ]
     },
     "execution_count": 131,
     "metadata": {},
     "output_type": "execute_result"
    }
   ],
   "source": [
    "# Respuestas falsos positivos\n",
    "\n",
    "(((target_valid==0)&(predictions_valid_forest==1)).sum())"
   ]
  },
  {
   "cell_type": "code",
   "execution_count": 132,
   "metadata": {},
   "outputs": [
    {
     "data": {
      "text/plain": [
       "253"
      ]
     },
     "execution_count": 132,
     "metadata": {},
     "output_type": "execute_result"
    }
   ],
   "source": [
    "# Respuestas falsos negativos\n",
    "\n",
    "(((target_valid==1)&(predictions_valid_forest==0)).sum())"
   ]
  },
  {
   "cell_type": "code",
   "execution_count": 133,
   "metadata": {},
   "outputs": [
    {
     "data": {
      "text/plain": [
       "array([[1506,   76],\n",
       "       [ 253,  165]])"
      ]
     },
     "execution_count": 133,
     "metadata": {},
     "output_type": "execute_result"
    }
   ],
   "source": [
    "# Matriz de confusión\n",
    "\n",
    "confusion_matrix(target_valid, predictions_valid_forest)"
   ]
  },
  {
   "cell_type": "code",
   "execution_count": 134,
   "metadata": {},
   "outputs": [
    {
     "data": {
      "text/plain": [
       "0.39473684210526316"
      ]
     },
     "execution_count": 134,
     "metadata": {},
     "output_type": "execute_result"
    }
   ],
   "source": [
    "# Recall\n",
    "\n",
    "recall_forest = recall_score(target_valid, predictions_valid_forest)\n",
    "recall_forest"
   ]
  },
  {
   "cell_type": "code",
   "execution_count": 135,
   "metadata": {},
   "outputs": [
    {
     "data": {
      "text/plain": [
       "0.6846473029045643"
      ]
     },
     "execution_count": 135,
     "metadata": {},
     "output_type": "execute_result"
    }
   ],
   "source": [
    "# Presición\n",
    "\n",
    "precision_forest = precision_score(target_valid, predictions_valid_forest)\n",
    "precision_forest "
   ]
  },
  {
   "cell_type": "code",
   "execution_count": 136,
   "metadata": {},
   "outputs": [
    {
     "data": {
      "text/plain": [
       "0.5007587253414264"
      ]
     },
     "execution_count": 136,
     "metadata": {},
     "output_type": "execute_result"
    }
   ],
   "source": [
    "# Valor F1\n",
    "\n",
    "f1_forest = f1_score(target_valid, predictions_valid_forest)\n",
    "f1_forest"
   ]
  },
  {
   "cell_type": "code",
   "execution_count": 137,
   "metadata": {},
   "outputs": [
    {
     "name": "stdout",
     "output_type": "stream",
     "text": [
      "Recall de Bosque Aleatorio: 0.39473684210526316\n",
      "Precisión de Bosque Aleatorio: 0.6846473029045643\n",
      "Puntuación F1 de Bosque Aleatorio 0.5007587253414264\n"
     ]
    }
   ],
   "source": [
    "print('Recall de Bosque Aleatorio:', recall_forest)\n",
    "print('Precisión de Bosque Aleatorio:', precision_forest)\n",
    "print('Puntuación F1 de Bosque Aleatorio', f1_forest)\n"
   ]
  },
  {
   "cell_type": "markdown",
   "metadata": {},
   "source": [
    "Podemos indicar que los valores de recall, presicion y F1, al tener valores más semejantes de recall y precisión, obtenemos un F1 con valores parecidos, lo que nos indica que la prediccion de la clase 1 es la mejor, ya que el valor de F1 para este modelo es el más cercano a 1.\n",
    "\n",
    "[Regresar a Contenido](#back)"
   ]
  },
  {
   "cell_type": "markdown",
   "metadata": {},
   "source": [
    "## 5. Mejora de calidad del modelo <a id='model_better'></a>\n",
    "\n"
   ]
  },
  {
   "cell_type": "markdown",
   "metadata": {},
   "source": [
    "Se realizó el ajuste de peso de la clase, submuestro, la curva PR, el umbral de clase y la curva ROC, para ajustar y mejorar la alidad del modelo"
   ]
  },
  {
   "cell_type": "code",
   "execution_count": 138,
   "metadata": {},
   "outputs": [
    {
     "name": "stdout",
     "output_type": "stream",
     "text": [
      "F1 para el dataset de validación:  0.48902821316614414\n",
      "F1 para el dataset de prueba: 0.5487256371814092\n"
     ]
    }
   ],
   "source": [
    "# Ajuste de peso de clase\n",
    "\n",
    "model = RandomForestClassifier(random_state=54321, n_estimators=8, class_weight='balanced')\n",
    "model.fit(features_train, target_train)\n",
    "predicted_valid = model.predict(features_valid)\n",
    "\n",
    "print('F1 para el dataset de validación: ', f1_score(target_valid, predicted_valid)) \n",
    "\n",
    "predicted_test = model.predict(features_test)\n",
    "print('F1 para el dataset de prueba:', f1_score(target_test, predicted_test)) "
   ]
  },
  {
   "cell_type": "code",
   "execution_count": 139,
   "metadata": {},
   "outputs": [
    {
     "name": "stdout",
     "output_type": "stream",
     "text": [
      "F1 para el dataset de validación:  0.5594594594594595\n",
      "F1 para el dataset de prueba:  0.6089238845144356\n"
     ]
    }
   ],
   "source": [
    "# Sobremuestreo\n",
    "\n",
    "def upsample(features, target, repeat):\n",
    "    features_zeros = features[target == 0]\n",
    "    features_ones = features[target == 1]\n",
    "    target_zeros = target[target == 0]\n",
    "    target_ones = target[target == 1]\n",
    "    \n",
    "    features_upsampled = pd.concat([features_zeros] + [features_ones] * repeat)\n",
    "    target_upsampled = pd.concat([target_zeros] + [target_ones] * repeat)\n",
    "    \n",
    "    features_upsampled, target_upsampled = shuffle(\n",
    "        features_upsampled, target_upsampled, random_state=54321)\n",
    "    \n",
    "    return features_upsampled, target_upsampled\n",
    "\n",
    "\n",
    "features_upsampled, target_upsampled = upsample(\n",
    "    features_train, target_train, 4\n",
    ")\n",
    "\n",
    "model = RandomForestClassifier(random_state=54321, n_estimators=8, class_weight='balanced')\n",
    "model.fit(features_upsampled, target_upsampled)\n",
    "\n",
    "predicted_valid = model.predict(features_valid)\n",
    "\n",
    "print('F1 para el dataset de validación: ', f1_score(target_valid, predicted_valid))\n",
    "\n",
    "predicted_test = model.predict(features_test)\n",
    "\n",
    "print('F1 para el dataset de prueba: ', f1_score(target_test, predicted_test))"
   ]
  },
  {
   "cell_type": "code",
   "execution_count": 140,
   "metadata": {},
   "outputs": [
    {
     "data": {
      "text/plain": [
       "0    0.504714\n",
       "1    0.495286\n",
       "Name: Exited, dtype: float64"
      ]
     },
     "execution_count": 140,
     "metadata": {},
     "output_type": "execute_result"
    }
   ],
   "source": [
    "target_upsampled.value_counts(normalize=True)"
   ]
  },
  {
   "cell_type": "markdown",
   "metadata": {},
   "source": [
    "Pomeos observar una mejora en los valores de F1 tanto en los valores de validación y de la prueba, obteniendo mejores resultados."
   ]
  },
  {
   "cell_type": "code",
   "execution_count": 141,
   "metadata": {},
   "outputs": [
    {
     "name": "stdout",
     "output_type": "stream",
     "text": [
      "Threshold = 0.00 | Precision = 0.292, Recall = 0.902\n",
      "Threshold = 0.02 | Precision = 0.292, Recall = 0.902\n",
      "Threshold = 0.04 | Precision = 0.292, Recall = 0.902\n",
      "Threshold = 0.06 | Precision = 0.292, Recall = 0.902\n",
      "Threshold = 0.08 | Precision = 0.292, Recall = 0.902\n",
      "Threshold = 0.10 | Precision = 0.292, Recall = 0.902\n",
      "Threshold = 0.12 | Precision = 0.292, Recall = 0.902\n",
      "Threshold = 0.14 | Precision = 0.387, Recall = 0.785\n",
      "Threshold = 0.16 | Precision = 0.387, Recall = 0.785\n",
      "Threshold = 0.18 | Precision = 0.387, Recall = 0.785\n",
      "Threshold = 0.20 | Precision = 0.387, Recall = 0.785\n",
      "Threshold = 0.22 | Precision = 0.387, Recall = 0.785\n",
      "Threshold = 0.24 | Precision = 0.387, Recall = 0.785\n",
      "Threshold = 0.26 | Precision = 0.482, Recall = 0.682\n",
      "Threshold = 0.28 | Precision = 0.482, Recall = 0.682\n",
      "Threshold = 0.30 | Precision = 0.482, Recall = 0.682\n",
      "Threshold = 0.32 | Precision = 0.482, Recall = 0.682\n",
      "Threshold = 0.34 | Precision = 0.482, Recall = 0.682\n",
      "Threshold = 0.36 | Precision = 0.482, Recall = 0.682\n",
      "Threshold = 0.38 | Precision = 0.574, Recall = 0.591\n",
      "Threshold = 0.40 | Precision = 0.574, Recall = 0.591\n",
      "Threshold = 0.42 | Precision = 0.574, Recall = 0.591\n",
      "Threshold = 0.44 | Precision = 0.574, Recall = 0.591\n",
      "Threshold = 0.46 | Precision = 0.574, Recall = 0.591\n",
      "Threshold = 0.48 | Precision = 0.574, Recall = 0.591\n",
      "Threshold = 0.50 | Precision = 0.643, Recall = 0.495\n",
      "Threshold = 0.52 | Precision = 0.643, Recall = 0.495\n",
      "Threshold = 0.54 | Precision = 0.643, Recall = 0.495\n",
      "Threshold = 0.56 | Precision = 0.643, Recall = 0.495\n",
      "Threshold = 0.58 | Precision = 0.643, Recall = 0.495\n",
      "Threshold = 0.60 | Precision = 0.643, Recall = 0.495\n",
      "Threshold = 0.62 | Precision = 0.643, Recall = 0.495\n",
      "Threshold = 0.64 | Precision = 0.688, Recall = 0.368\n",
      "Threshold = 0.66 | Precision = 0.688, Recall = 0.368\n",
      "Threshold = 0.68 | Precision = 0.688, Recall = 0.368\n",
      "Threshold = 0.70 | Precision = 0.688, Recall = 0.368\n",
      "Threshold = 0.72 | Precision = 0.688, Recall = 0.368\n",
      "Threshold = 0.74 | Precision = 0.688, Recall = 0.368\n",
      "Threshold = 0.76 | Precision = 0.748, Recall = 0.242\n",
      "Threshold = 0.78 | Precision = 0.748, Recall = 0.242\n",
      "Threshold = 0.80 | Precision = 0.748, Recall = 0.242\n",
      "Threshold = 0.82 | Precision = 0.748, Recall = 0.242\n",
      "Threshold = 0.84 | Precision = 0.748, Recall = 0.242\n",
      "Threshold = 0.86 | Precision = 0.748, Recall = 0.242\n",
      "Threshold = 0.88 | Precision = 0.750, Recall = 0.100\n",
      "Threshold = 0.90 | Precision = 0.750, Recall = 0.100\n",
      "Threshold = 0.92 | Precision = 0.750, Recall = 0.100\n",
      "Threshold = 0.94 | Precision = 0.750, Recall = 0.100\n",
      "Threshold = 0.96 | Precision = 0.750, Recall = 0.100\n",
      "Threshold = 0.98 | Precision = 0.750, Recall = 0.100\n"
     ]
    }
   ],
   "source": [
    "# Umbral de clase\n",
    "\n",
    "probabilities_valid = model.predict_proba(features_valid)\n",
    "probabilities_one_valid = probabilities_valid[:, 1]\n",
    "\n",
    "for threshold in np.arange(0, 1, 0.02):\n",
    "    predicted_valid_p = probabilities_one_valid > threshold\n",
    "    precision = precision_score(target_valid, predicted_valid_p)\n",
    "    recall = recall_score(target_valid, predicted_valid_p)\n",
    "    print(\n",
    "            'Threshold = {:.2f} | Precision = {:.3f}, Recall = {:.3f}'.format(\n",
    "                threshold, precision, recall\n",
    "            )\n",
    "        )\n"
   ]
  },
  {
   "cell_type": "code",
   "execution_count": 142,
   "metadata": {},
   "outputs": [
    {
     "data": {
      "image/png": "[encoded data removed]",
      "text/plain": [
       "<Figure size 432x432 with 1 Axes>"
      ]
     },
     "metadata": {
      "needs_background": "light"
     },
     "output_type": "display_data"
    }
   ],
   "source": [
    "#Curva Pr\n",
    "\n",
    "probabilities_valid = model.predict_proba(features_valid)\n",
    "precision, recall, thresholds = precision_recall_curve(\n",
    "    target_valid, probabilities_valid[:, 1]\n",
    ")\n",
    "\n",
    "plt.figure(figsize=(6, 6))\n",
    "plt.step(recall, precision, where='post')\n",
    "plt.xlabel('Recall')\n",
    "plt.ylabel('Precision')\n",
    "plt.ylim([0.0, 1.05])\n",
    "plt.xlim([0.0, 1.0])\n",
    "plt.title('Precision-Recall Curve')\n",
    "plt.show()\n"
   ]
  },
  {
   "cell_type": "code",
   "execution_count": 143,
   "metadata": {},
   "outputs": [
    {
     "data": {
      "image/png": "[encoded data removed]",
      "text/plain": [
       "<Figure size 432x288 with 1 Axes>"
      ]
     },
     "metadata": {
      "needs_background": "light"
     },
     "output_type": "display_data"
    }
   ],
   "source": [
    "# Curva ROC\n",
    "\n",
    "fpr, tpr, thresholds = roc_curve(target_valid, probabilities_one_valid) \n",
    "\n",
    "plt.figure()\n",
    "\n",
    "plt.plot(fpr, tpr)\n",
    "\n",
    "plt.plot([0, 1], [0, 1], linestyle='--')\n",
    "\n",
    "\n",
    "plt.xlim([0.0, 1.0])\n",
    "plt.ylim([0.0, 1.0])\n",
    "\n",
    "plt.xlabel('Tasa de falsos positivos')\n",
    "plt.ylabel('Tasa de verdaderos positivos')\n",
    "\n",
    "plt.title('Curva ROC')\n",
    "\n",
    "plt.show()\n"
   ]
  },
  {
   "cell_type": "code",
   "execution_count": 144,
   "metadata": {},
   "outputs": [
    {
     "name": "stdout",
     "output_type": "stream",
     "text": [
      "0.8054072732111857\n"
     ]
    }
   ],
   "source": [
    "auc_roc_logistic = roc_auc_score(target_valid, probabilities_one_valid)\n",
    "\n",
    "print(auc_roc_logistic)\n"
   ]
  },
  {
   "cell_type": "markdown",
   "metadata": {},
   "source": [
    "Podemos observar que el valor de F1 mejoró, viendo que la predicción para la clase 2 mejoró, con el ajuste de peso. Con respecto al sobre muestreo se obtuvo el mismo resultado y no varió, por lo que no mejoró la métrica. Con el ajuste de umbral, observamos que disminuye y posteriormente comienza a aumentar ara llegar a un máximo y volver a disminuir la presición, debido a que si no hay respuestas 1, entonces la presición es 0, Mientras que el recall solamente disminuye.\n",
    "\n",
    "en la curva ROC, podemos apreciar la mejor manera para encontrar la mejor proporción de TFP y TFN, obteniendo un mejor resultado dque el modelo aleatorio."
   ]
  },
  {
   "cell_type": "markdown",
   "metadata": {},
   "source": [
    "## Prueba final"
   ]
  },
  {
   "cell_type": "code",
   "execution_count": 145,
   "metadata": {},
   "outputs": [
    {
     "name": "stdout",
     "output_type": "stream",
     "text": [
      "Exactitud del clasificador Dummy: 0.78\n"
     ]
    }
   ],
   "source": [
    "# Prueba de cordura\n",
    "\n",
    "dummy_clf = DummyClassifier(strategy=\"most_frequent\")\n",
    "\n",
    "dummy_clf.fit(features_train, target_train)\n",
    "\n",
    "y_pred = dummy_clf.predict(features_test)\n",
    "\n",
    "accuracy = accuracy_score(target_test, y_pred)\n",
    "print(\"Exactitud del clasificador Dummy: {:.2f}\".format(accuracy))"
   ]
  },
  {
   "cell_type": "markdown",
   "metadata": {},
   "source": [
    "Podemos revisar que realizando un a prueba de cordura se acercan a los resultados obtenidos de la exactitud del método regresión lógica."
   ]
  },
  {
   "cell_type": "code",
   "execution_count": 146,
   "metadata": {
    "scrolled": true
   },
   "outputs": [
    {
     "data": {
      "text/plain": [
       "0.8495"
      ]
     },
     "execution_count": 146,
     "metadata": {},
     "output_type": "execute_result"
    }
   ],
   "source": [
    "model_test = RandomForestClassifier(random_state=54321, n_estimators=8, class_weight='balanced') \n",
    "model_test.fit(features_test, target_test)\n",
    "\n",
    "predictions_test = model_forest.predict(features_test)\n",
    "\n",
    "accuracy_test = accuracy_score(target_test, predictions_test)\n",
    "\n",
    "accuracy_test"
   ]
  },
  {
   "cell_type": "code",
   "execution_count": 147,
   "metadata": {},
   "outputs": [
    {
     "data": {
      "text/plain": [
       "188"
      ]
     },
     "execution_count": 147,
     "metadata": {},
     "output_type": "execute_result"
    }
   ],
   "source": [
    "# Respuestas verdaderos positivos\n",
    "\n",
    "(((target_test==1)&(predictions_test==1)).sum())\n",
    " "
   ]
  },
  {
   "cell_type": "code",
   "execution_count": 148,
   "metadata": {},
   "outputs": [
    {
     "data": {
      "text/plain": [
       "1511"
      ]
     },
     "execution_count": 148,
     "metadata": {},
     "output_type": "execute_result"
    }
   ],
   "source": [
    "# Respuestas verdaderos negativos\n",
    "\n",
    "(((target_test==0)&(predictions_test==0)).sum())"
   ]
  },
  {
   "cell_type": "code",
   "execution_count": 149,
   "metadata": {},
   "outputs": [
    {
     "data": {
      "text/plain": [
       "52"
      ]
     },
     "execution_count": 149,
     "metadata": {},
     "output_type": "execute_result"
    }
   ],
   "source": [
    "# Respuestas falsos positivos\n",
    "\n",
    "(((target_test==0)&(predictions_test==1)).sum())"
   ]
  },
  {
   "cell_type": "code",
   "execution_count": 150,
   "metadata": {},
   "outputs": [
    {
     "data": {
      "text/plain": [
       "249"
      ]
     },
     "execution_count": 150,
     "metadata": {},
     "output_type": "execute_result"
    }
   ],
   "source": [
    "# Respuestas falsos negativos\n",
    "\n",
    "(((target_test==1)&(predictions_test==0)).sum())"
   ]
  },
  {
   "cell_type": "code",
   "execution_count": 151,
   "metadata": {},
   "outputs": [
    {
     "data": {
      "text/plain": [
       "array([[1511,   52],\n",
       "       [ 249,  188]])"
      ]
     },
     "execution_count": 151,
     "metadata": {},
     "output_type": "execute_result"
    }
   ],
   "source": [
    "# Matriz de confusión\n",
    "\n",
    "confusion_matrix(target_test, predictions_test)"
   ]
  },
  {
   "cell_type": "code",
   "execution_count": 152,
   "metadata": {},
   "outputs": [
    {
     "data": {
      "text/plain": [
       "0.4302059496567506"
      ]
     },
     "execution_count": 152,
     "metadata": {},
     "output_type": "execute_result"
    }
   ],
   "source": [
    "# Recall\n",
    "\n",
    "recall_test = recall_score(target_test, predictions_test)\n",
    "recall_test"
   ]
  },
  {
   "cell_type": "code",
   "execution_count": 153,
   "metadata": {},
   "outputs": [
    {
     "data": {
      "text/plain": [
       "0.7833333333333333"
      ]
     },
     "execution_count": 153,
     "metadata": {},
     "output_type": "execute_result"
    }
   ],
   "source": [
    "# Presición\n",
    "\n",
    "precision_test = precision_score(target_test, predictions_test)\n",
    "precision_test "
   ]
  },
  {
   "cell_type": "code",
   "execution_count": 154,
   "metadata": {},
   "outputs": [
    {
     "data": {
      "text/plain": [
       "0.5553914327917282"
      ]
     },
     "execution_count": 154,
     "metadata": {},
     "output_type": "execute_result"
    }
   ],
   "source": [
    "# Valor F1\n",
    "\n",
    "f1_test = f1_score(target_test, predictions_test)\n",
    "f1_test"
   ]
  },
  {
   "cell_type": "code",
   "execution_count": 155,
   "metadata": {},
   "outputs": [
    {
     "name": "stdout",
     "output_type": "stream",
     "text": [
      "Recall de Prueba: 0.4302059496567506\n",
      "Precisión de Prueba: 0.7833333333333333\n",
      "Puntuación F1 de Prueba 0.5553914327917282\n"
     ]
    }
   ],
   "source": [
    "print('Recall de Prueba:', recall_test)\n",
    "print('Precisión de Prueba:', precision_test)\n",
    "print('Puntuación F1 de Prueba', f1_test)\n"
   ]
  },
  {
   "cell_type": "markdown",
   "metadata": {},
   "source": [
    "Podemos indicar que los valores de recall, presicion y F1, al tener valores de recall y precisión superiores al del modelo, obtenemos un F1 más cercano a 1."
   ]
  },
  {
   "cell_type": "code",
   "execution_count": 158,
   "metadata": {},
   "outputs": [
    {
     "name": "stdout",
     "output_type": "stream",
     "text": [
      "Threshold = 0.00 | Precision = 0.486, Recall = 1.000\n",
      "Threshold = 0.02 | Precision = 0.486, Recall = 1.000\n",
      "Threshold = 0.04 | Precision = 0.486, Recall = 1.000\n",
      "Threshold = 0.06 | Precision = 0.486, Recall = 1.000\n",
      "Threshold = 0.08 | Precision = 0.486, Recall = 1.000\n",
      "Threshold = 0.10 | Precision = 0.486, Recall = 1.000\n",
      "Threshold = 0.12 | Precision = 0.486, Recall = 1.000\n",
      "Threshold = 0.14 | Precision = 0.783, Recall = 1.000\n",
      "Threshold = 0.16 | Precision = 0.783, Recall = 1.000\n",
      "Threshold = 0.18 | Precision = 0.783, Recall = 1.000\n",
      "Threshold = 0.20 | Precision = 0.783, Recall = 1.000\n",
      "Threshold = 0.22 | Precision = 0.783, Recall = 1.000\n",
      "Threshold = 0.24 | Precision = 0.783, Recall = 1.000\n",
      "Threshold = 0.26 | Precision = 0.937, Recall = 0.991\n",
      "Threshold = 0.28 | Precision = 0.937, Recall = 0.991\n",
      "Threshold = 0.30 | Precision = 0.937, Recall = 0.991\n",
      "Threshold = 0.32 | Precision = 0.937, Recall = 0.991\n",
      "Threshold = 0.34 | Precision = 0.937, Recall = 0.991\n",
      "Threshold = 0.36 | Precision = 0.937, Recall = 0.991\n",
      "Threshold = 0.38 | Precision = 0.988, Recall = 0.963\n",
      "Threshold = 0.40 | Precision = 0.988, Recall = 0.963\n",
      "Threshold = 0.42 | Precision = 0.988, Recall = 0.963\n",
      "Threshold = 0.44 | Precision = 0.988, Recall = 0.963\n",
      "Threshold = 0.46 | Precision = 0.988, Recall = 0.963\n",
      "Threshold = 0.48 | Precision = 0.988, Recall = 0.963\n",
      "Threshold = 0.50 | Precision = 1.000, Recall = 0.899\n",
      "Threshold = 0.52 | Precision = 1.000, Recall = 0.899\n",
      "Threshold = 0.54 | Precision = 1.000, Recall = 0.899\n",
      "Threshold = 0.56 | Precision = 1.000, Recall = 0.899\n",
      "Threshold = 0.58 | Precision = 1.000, Recall = 0.899\n",
      "Threshold = 0.60 | Precision = 1.000, Recall = 0.899\n",
      "Threshold = 0.62 | Precision = 1.000, Recall = 0.899\n",
      "Threshold = 0.64 | Precision = 1.000, Recall = 0.769\n",
      "Threshold = 0.66 | Precision = 1.000, Recall = 0.769\n",
      "Threshold = 0.68 | Precision = 1.000, Recall = 0.769\n",
      "Threshold = 0.70 | Precision = 1.000, Recall = 0.769\n",
      "Threshold = 0.72 | Precision = 1.000, Recall = 0.769\n",
      "Threshold = 0.74 | Precision = 1.000, Recall = 0.769\n",
      "Threshold = 0.76 | Precision = 1.000, Recall = 0.538\n",
      "Threshold = 0.78 | Precision = 1.000, Recall = 0.538\n",
      "Threshold = 0.80 | Precision = 1.000, Recall = 0.538\n",
      "Threshold = 0.82 | Precision = 1.000, Recall = 0.538\n",
      "Threshold = 0.84 | Precision = 1.000, Recall = 0.538\n",
      "Threshold = 0.86 | Precision = 1.000, Recall = 0.538\n",
      "Threshold = 0.88 | Precision = 1.000, Recall = 0.265\n",
      "Threshold = 0.90 | Precision = 1.000, Recall = 0.265\n",
      "Threshold = 0.92 | Precision = 1.000, Recall = 0.265\n",
      "Threshold = 0.94 | Precision = 1.000, Recall = 0.265\n",
      "Threshold = 0.96 | Precision = 1.000, Recall = 0.265\n",
      "Threshold = 0.98 | Precision = 1.000, Recall = 0.265\n"
     ]
    }
   ],
   "source": [
    "# Umbral de clase\n",
    "\n",
    "probabilities_test = model_test.predict_proba(features_test)\n",
    "probabilities_one_test = probabilities_test[:, 1]\n",
    "\n",
    "for threshold in np.arange(0, 1, 0.02):\n",
    "    predicted_test_p = probabilities_one_test > threshold\n",
    "    precision = precision_score(target_test, predicted_test_p)\n",
    "    recall = recall_score(target_test, predicted_test_p)\n",
    "    print(\n",
    "            'Threshold = {:.2f} | Precision = {:.3f}, Recall = {:.3f}'.format(\n",
    "                threshold, precision, recall\n",
    "            )\n",
    "        )\n"
   ]
  },
  {
   "cell_type": "code",
   "execution_count": 159,
   "metadata": {},
   "outputs": [
    {
     "data": {
      "image/png": "[encoded data removed]",
      "text/plain": [
       "<Figure size 432x432 with 1 Axes>"
      ]
     },
     "metadata": {
      "needs_background": "light"
     },
     "output_type": "display_data"
    }
   ],
   "source": [
    "#Curva Pr\n",
    "\n",
    "probabilities_test = model_test.predict_proba(features_test)\n",
    "precision, recall, thresholds = precision_recall_curve(\n",
    "    target_test, probabilities_test[:, 1]\n",
    ")\n",
    "\n",
    "plt.figure(figsize=(6, 6))\n",
    "plt.step(recall, precision, where='post')\n",
    "plt.xlabel('Recall')\n",
    "plt.ylabel('Precision')\n",
    "plt.ylim([0.0, 1.05])\n",
    "plt.xlim([0.0, 1.0])\n",
    "plt.title('Precision-Recall Curve')\n",
    "plt.show()\n"
   ]
  },
  {
   "cell_type": "code",
   "execution_count": 160,
   "metadata": {},
   "outputs": [
    {
     "data": {
      "image/png": "[encoded data removed]",
      "text/plain": [
       "<Figure size 432x288 with 1 Axes>"
      ]
     },
     "metadata": {
      "needs_background": "light"
     },
     "output_type": "display_data"
    }
   ],
   "source": [
    "# Curva ROC\n",
    "\n",
    "fpr, tpr, thresholds = roc_curve(target_test, probabilities_one_test) \n",
    "\n",
    "plt.figure()\n",
    "\n",
    "plt.plot(fpr, tpr)\n",
    "\n",
    "plt.plot([0, 1], [0, 1], linestyle='--')\n",
    "\n",
    "\n",
    "plt.xlim([0.0, 1.0])\n",
    "plt.ylim([0.0, 1.0])\n",
    "\n",
    "plt.xlabel('Tasa de falsos positivos')\n",
    "plt.ylabel('Tasa de verdaderos positivos')\n",
    "\n",
    "plt.title('Curva ROC')\n",
    "\n",
    "plt.show()\n"
   ]
  },
  {
   "cell_type": "code",
   "execution_count": 161,
   "metadata": {},
   "outputs": [
    {
     "name": "stdout",
     "output_type": "stream",
     "text": [
      "0.8054072732111857\n"
     ]
    }
   ],
   "source": [
    "auc_roc_logistic_test = roc_auc_score(target_test, probabilities_one_test)\n",
    "\n",
    "print(auc_roc_logistic)\n"
   ]
  },
  {
   "cell_type": "markdown",
   "metadata": {},
   "source": [
    "# Conclusión <a id='end'></a>\n",
    "\n",
    "Con base a los resultados obtenidos podemos indicar que los resultados de F1 si variaban, obteniendo mejores resultados con los datos de la prueba, superando los resutlados de datos de entrenamiento, sin embargo en los resultados de AUC-ROC, no se observan diferencias, por loq ue podemos decir que el modelo es aceptable.\n",
    "\n",
    "[Regresar a Contenido](#back)"
   ]
  }
 ],
 "metadata": {
  "kernelspec": {
   "display_name": "Python 3 (ipykernel)",
   "language": "python",
   "name": "python3"
  },
  "language_info": {
   "codemirror_mode": {
    "name": "ipython",
    "version": 3
   },
   "file_extension": ".py",
   "mimetype": "text/x-python",
   "name": "python",
   "nbconvert_exporter": "python",
   "pygments_lexer": "ipython3",
   "version": "3.9.5"
  },
  "toc": {
   "base_numbering": 1,
   "nav_menu": {},
   "number_sections": true,
   "sideBar": true,
   "skip_h1_title": true,
   "title_cell": "Table of Contents",
   "title_sidebar": "Contents",
   "toc_cell": false,
   "toc_position": {},
   "toc_section_display": true,
   "toc_window_display": false
  }
 },
 "nbformat": 4,
 "nbformat_minor": 2
}
