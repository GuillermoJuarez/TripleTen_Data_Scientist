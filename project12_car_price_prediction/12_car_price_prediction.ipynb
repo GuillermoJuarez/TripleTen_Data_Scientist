{
 "cells": [
  {
   "cell_type": "markdown",
   "metadata": {},
   "source": [
    "# RUSTY BARGAIN. Predicciones de precios de automóviles"
   ]
  },
  {
   "cell_type": "markdown",
   "metadata": {},
   "source": [
    "## Contenido <a id='back'></a>\n",
    "\n",
    "* [Introducción](#intro) \n",
    "* [1. Preparación de datos](#data_review)\n",
    "* [2. Entrenamiento del Modelo](#trainning)\n",
    "* [3. Análisis del modelo](#analysis)\n",
    "* [Conclusiones](#end)"
   ]
  },
  {
   "cell_type": "markdown",
   "metadata": {},
   "source": [
    "## Introducción <a id='intro'></a>\n",
    "\n",
    "El servicio de venta de autos usados Rusty Bargain está desarrollando una aplicación para atraer nuevos clientes. Gracias a esa app, puedes averiguar rápidamente el valor de mercado de tu coche para crear un modelo que determine el valor de mercado.\n",
    "\n",
    "## Objetivos\n",
    "\n",
    "A Rusty Bargain le interesa:\n",
    "\n",
    "- la calidad de la predicción\n",
    "- la velocidad de la predicción\n",
    "- el tiempo requerido para el entrenamiento\n",
    "\n",
    "[Regresar a contenido](#back)"
   ]
  },
  {
   "cell_type": "markdown",
   "metadata": {},
   "source": [
    "## 1. Preparación de datos <a id='data_review'></a>"
   ]
  },
  {
   "cell_type": "code",
   "execution_count": 1,
   "metadata": {},
   "outputs": [],
   "source": [
    "pip install lightgbm\n"
   ]
  },
  {
   "cell_type": "code",
   "execution_count": 2,
   "metadata": {},
   "outputs": [],
   "source": [
    "pip install xgboost"
   ]
  },
  {
   "cell_type": "code",
   "execution_count": 3,
   "metadata": {},
   "outputs": [],
   "source": [
    "pip install catboost"
   ]
  },
  {
   "cell_type": "code",
   "execution_count": 4,
   "metadata": {},
   "outputs": [],
   "source": [
    "# Se importa las librerías que utilizaremos\n",
    "\n",
    "import numpy as np\n",
    "import pandas as pd\n",
    "from sklearn.model_selection import train_test_split\n",
    "from sklearn.tree import DecisionTreeRegressor\n",
    "from sklearn.ensemble import RandomForestRegressor\n",
    "from sklearn.linear_model import LinearRegression\n",
    "from sklearn.metrics import mean_squared_error\n",
    "from sklearn.metrics import r2_score \n",
    "from sklearn.metrics import mean_absolute_error\n",
    "import lightgbm as lgb\n",
    "import xgboost as xg\n",
    "import catboost as cb\n",
    "from sklearn.metrics import roc_auc_score\n",
    "from sklearn import metrics\n",
    "import time\n",
    "import matplotlib.pyplot as plt "
   ]
  },
  {
   "cell_type": "code",
   "execution_count": 5,
   "metadata": {
    "scrolled": true
   },
   "outputs": [],
   "source": [
    "# Cargamos los datos\n",
    "\n",
    "df = pd.read_csv('car_data.csv')\n"
   ]
  },
  {
   "cell_type": "code",
   "execution_count": 6,
   "metadata": {},
   "outputs": [
    {
     "data": {},
     "execution_count": 6,
     "metadata": {},
     "output_type": "execute_result"
    }
   ],
   "source": [
    "df.head()"
   ]
  },
  {
   "cell_type": "code",
   "execution_count": 7,
   "metadata": {},
   "outputs": [],
   "source": [
    "df.info()"
   ]
  },
  {
   "cell_type": "code",
   "execution_count": 8,
   "metadata": {},
   "outputs": [
    {
     "data": {},
     "execution_count": 8,
     "metadata": {},
     "output_type": "execute_result"
    }
   ],
   "source": [
    "df.isna().sum()"
   ]
  },
  {
   "cell_type": "code",
   "execution_count": 9,
   "metadata": {},
   "outputs": [
    {
     "data": {},
     "execution_count": 9,
     "metadata": {},
     "output_type": "execute_result"
    }
   ],
   "source": [
    "df['Model'].value_counts()"
   ]
  },
  {
   "cell_type": "markdown",
   "metadata": {},
   "source": [
    "Podemos obserbar que una de las columnas que tiene datos ausentes es la de modelos de autos, sin embargo, se analizó el los modelos por 'brand', pero las marcas tienen diferentes modelos y no hay alguna forma de determinar que modelos son cada uno de los datos ausentes, a  parte que no es eficiente el analizar modelo por modelo y marca por marca, por lo que se determinó que los datos ausentes de los modelos se categorizarían en 'other', en donde se revisó hay diferentes marcas de este modelo."
   ]
  },
  {
   "cell_type": "code",
   "execution_count": 10,
   "metadata": {},
   "outputs": [],
   "source": [
    "df['Model']=df['Model'].fillna('other')"
   ]
  },
  {
   "cell_type": "code",
   "execution_count": 11,
   "metadata": {},
   "outputs": [
    {
     "data": {},
     "execution_count": 11,
     "metadata": {},
     "output_type": "execute_result"
    }
   ],
   "source": [
    "df['Model'].isna().sum()"
   ]
  },
  {
   "cell_type": "code",
   "execution_count": 12,
   "metadata": {},
   "outputs": [
    {
     "data": {},
     "execution_count": 12,
     "metadata": {},
     "output_type": "execute_result"
    }
   ],
   "source": [
    "#Se analizan las dos columnas por las que se podría categorizar los dtos ausentes\n",
    "df['Model'].value_counts().head(15)"
   ]
  },
  {
   "cell_type": "code",
   "execution_count": 13,
   "metadata": {},
   "outputs": [
    {
     "data": {},
     "execution_count": 13,
     "metadata": {},
     "output_type": "execute_result"
    }
   ],
   "source": [
    "df['Brand'].value_counts().head(15)"
   ]
  },
  {
   "cell_type": "code",
   "execution_count": 14,
   "metadata": {},
   "outputs": [
    {
     "data": {},
     "execution_count": 14,
     "metadata": {},
     "output_type": "execute_result"
    }
   ],
   "source": [
    "df['FuelType'].value_counts()"
   ]
  },
  {
   "cell_type": "code",
   "execution_count": 15,
   "metadata": {},
   "outputs": [
    {
     "data": {},
     "execution_count": 15,
     "metadata": {},
     "output_type": "execute_result"
    }
   ],
   "source": [
    "df['VehicleType'].value_counts()"
   ]
  },
  {
   "cell_type": "markdown",
   "metadata": {},
   "source": [
    "Podemos observar que en la columna 'Brand' tiene categorías con mayor número de datos, por lo que se determinarán las modas condicionados  en las diferentes columnas que contienen datos ausentes. sin embargo, no tendríamos predicciones más específicas, por lo que se realizaran por los modelos de los autos."
   ]
  },
  {
   "cell_type": "code",
   "execution_count": 16,
   "metadata": {},
   "outputs": [
    {
     "data": {},
     "execution_count": 16,
     "metadata": {},
     "output_type": "execute_result"
    }
   ],
   "source": [
    "df[df['Model']=='golf'].isna().sum()"
   ]
  },
  {
   "cell_type": "code",
   "execution_count": 17,
   "metadata": {
    "scrolled": true
   },
   "outputs": [
    {
     "data": {},
     "execution_count": 17,
     "metadata": {},
     "output_type": "execute_result"
    }
   ],
   "source": [
    "df[df['Model']=='golf']['VehicleType'].value_counts()"
   ]
  },
  {
   "cell_type": "code",
   "execution_count": 18,
   "metadata": {},
   "outputs": [
    {
     "data": {},
     "execution_count": 18,
     "metadata": {},
     "output_type": "execute_result"
    }
   ],
   "source": [
    "df[df['Model']=='golf']['Gearbox'].value_counts()"
   ]
  },
  {
   "cell_type": "code",
   "execution_count": 19,
   "metadata": {},
   "outputs": [
    {
     "data": {},
     "execution_count": 19,
     "metadata": {},
     "output_type": "execute_result"
    }
   ],
   "source": [
    "df[df['Model']=='golf']['FuelType'].value_counts()"
   ]
  },
  {
   "cell_type": "code",
   "execution_count": 20,
   "metadata": {},
   "outputs": [
    {
     "data": {},
     "execution_count": 20,
     "metadata": {},
     "output_type": "execute_result"
    }
   ],
   "source": [
    "df[df['Model']=='golf']['NotRepaired'].value_counts()"
   ]
  },
  {
   "cell_type": "code",
   "execution_count": 21,
   "metadata": {},
   "outputs": [],
   "source": [
    "# Se sustituyen los datos ausentes con la moda de cada una de las columnas\n",
    "\n",
    "df['VehicleType']=df[df['Model']=='golf']['VehicleType'].fillna('sedan')\n",
    "df['FuelType']=df[df['Model']=='golf']['FuelType'].fillna('petrol')"
   ]
  },
  {
   "cell_type": "code",
   "execution_count": 22,
   "metadata": {},
   "outputs": [
    {
     "data": {},
     "execution_count": 22,
     "metadata": {},
     "output_type": "execute_result"
    }
   ],
   "source": [
    "df[df['Model']=='golf'].isna().sum()"
   ]
  },
  {
   "cell_type": "markdown",
   "metadata": {},
   "source": [
    "En este caso podemos observar que tanto los datos de la columna 'Gearbox' y 'NotRepaired' son datos booleanos, ya que solo tienen dos categorías, sin embargo, en este caso solamente hay dos opciones y hablando comercialmente datos como la caja de velocidades ('Gearbox') y si ya fue reparado ('Notrepaired') debido a que no se sabe si tiene una falla importante, por lo que no se recomienda que  se rellene con al gún valor que tenemos y se decide que tengan otra categoría."
   ]
  },
  {
   "cell_type": "code",
   "execution_count": 23,
   "metadata": {
    "scrolled": true
   },
   "outputs": [
    {
     "data": {},
     "execution_count": 23,
     "metadata": {},
     "output_type": "execute_result"
    }
   ],
   "source": [
    "df[df['Model']=='other']['VehicleType'].value_counts()"
   ]
  },
  {
   "cell_type": "code",
   "execution_count": 24,
   "metadata": {},
   "outputs": [
    {
     "data": {},
     "execution_count": 24,
     "metadata": {},
     "output_type": "execute_result"
    }
   ],
   "source": [
    "df[df['Model']=='other']['Gearbox'].value_counts()"
   ]
  },
  {
   "cell_type": "code",
   "execution_count": 25,
   "metadata": {},
   "outputs": [
    {
     "data": {},
     "execution_count": 25,
     "metadata": {},
     "output_type": "execute_result"
    }
   ],
   "source": [
    "df[df['Model']=='other']['FuelType'].value_counts()"
   ]
  },
  {
   "cell_type": "code",
   "execution_count": 26,
   "metadata": {},
   "outputs": [
    {
     "data": {},
     "execution_count": 26,
     "metadata": {},
     "output_type": "execute_result"
    }
   ],
   "source": [
    "df[df['Model']=='other']['NotRepaired'].value_counts()"
   ]
  },
  {
   "cell_type": "code",
   "execution_count": 27,
   "metadata": {
    "scrolled": false
   },
   "outputs": [
    {
     "data": {},
     "execution_count": 27,
     "metadata": {},
     "output_type": "execute_result"
    }
   ],
   "source": [
    "df[df['Model']=='3er']['VehicleType'].value_counts()"
   ]
  },
  {
   "cell_type": "code",
   "execution_count": 28,
   "metadata": {},
   "outputs": [
    {
     "data": {},
     "execution_count": 28,
     "metadata": {},
     "output_type": "execute_result"
    }
   ],
   "source": [
    "df[df['Model']=='3er']['Gearbox'].value_counts()"
   ]
  },
  {
   "cell_type": "code",
   "execution_count": 29,
   "metadata": {},
   "outputs": [
    {
     "data": {},
     "execution_count": 29,
     "metadata": {},
     "output_type": "execute_result"
    }
   ],
   "source": [
    "df[df['Model']=='3er']['FuelType'].value_counts()"
   ]
  },
  {
   "cell_type": "code",
   "execution_count": 30,
   "metadata": {},
   "outputs": [
    {
     "data": {},
     "execution_count": 30,
     "metadata": {},
     "output_type": "execute_result"
    }
   ],
   "source": [
    "df[df['Model']=='3er']['NotRepaired'].value_counts()"
   ]
  },
  {
   "cell_type": "code",
   "execution_count": 31,
   "metadata": {},
   "outputs": [
    {
     "data": {},
     "execution_count": 31,
     "metadata": {},
     "output_type": "execute_result"
    }
   ],
   "source": [
    "df[df['Model']=='3er']"
   ]
  },
  {
   "cell_type": "markdown",
   "metadata": {},
   "source": [
    "Podemos observar que para el vehículo 3er de BMW no hay datos de tipo de vehículo ni tipo de combustible por lo que se investigó que es gasolina y podría rellenar con esos datos, sin embargo siguiendo la moda condicionada se rellenará con 'petrol' ya que todos los datos son ausentes se uede considerar esa categoría "
   ]
  },
  {
   "cell_type": "code",
   "execution_count": 32,
   "metadata": {
    "scrolled": true
   },
   "outputs": [
    {
     "data": {},
     "execution_count": 32,
     "metadata": {},
     "output_type": "execute_result"
    }
   ],
   "source": [
    "df[df['Model']=='polo']['VehicleType'].value_counts()"
   ]
  },
  {
   "cell_type": "code",
   "execution_count": 33,
   "metadata": {},
   "outputs": [
    {
     "data": {},
     "execution_count": 33,
     "metadata": {},
     "output_type": "execute_result"
    }
   ],
   "source": [
    "df[df['Model']=='polo']['Gearbox'].value_counts()"
   ]
  },
  {
   "cell_type": "code",
   "execution_count": 34,
   "metadata": {},
   "outputs": [
    {
     "data": {},
     "execution_count": 34,
     "metadata": {},
     "output_type": "execute_result"
    }
   ],
   "source": [
    "df[df['Model']=='polo']['FuelType'].value_counts()"
   ]
  },
  {
   "cell_type": "code",
   "execution_count": 35,
   "metadata": {},
   "outputs": [
    {
     "data": {},
     "execution_count": 35,
     "metadata": {},
     "output_type": "execute_result"
    }
   ],
   "source": [
    "df[df['Model']=='polo']['NotRepaired'].value_counts()"
   ]
  },
  {
   "cell_type": "code",
   "execution_count": 36,
   "metadata": {
    "scrolled": true
   },
   "outputs": [
    {
     "data": {},
     "execution_count": 36,
     "metadata": {},
     "output_type": "execute_result"
    }
   ],
   "source": [
    "df[df['Model']=='polo']"
   ]
  },
  {
   "cell_type": "code",
   "execution_count": 37,
   "metadata": {
    "scrolled": true
   },
   "outputs": [
    {
     "data": {},
     "execution_count": 37,
     "metadata": {},
     "output_type": "execute_result"
    }
   ],
   "source": [
    "df[df['Model']=='corsa']['VehicleType'].value_counts()"
   ]
  },
  {
   "cell_type": "code",
   "execution_count": 38,
   "metadata": {},
   "outputs": [
    {
     "data": {},
     "execution_count": 38,
     "metadata": {},
     "output_type": "execute_result"
    }
   ],
   "source": [
    "df[df['Model']=='corsa']['Gearbox'].value_counts()"
   ]
  },
  {
   "cell_type": "code",
   "execution_count": 39,
   "metadata": {},
   "outputs": [
    {
     "data": {},
     "execution_count": 39,
     "metadata": {},
     "output_type": "execute_result"
    }
   ],
   "source": [
    "df[df['Model']=='corsa']['FuelType'].value_counts()"
   ]
  },
  {
   "cell_type": "code",
   "execution_count": 40,
   "metadata": {},
   "outputs": [
    {
     "data": {},
     "execution_count": 40,
     "metadata": {},
     "output_type": "execute_result"
    }
   ],
   "source": [
    "df[df['Model']=='corsa']['NotRepaired'].value_counts()"
   ]
  },
  {
   "cell_type": "code",
   "execution_count": 41,
   "metadata": {
    "scrolled": true
   },
   "outputs": [
    {
     "data": {},
     "execution_count": 41,
     "metadata": {},
     "output_type": "execute_result"
    }
   ],
   "source": [
    "df[df['Model']=='corsa']"
   ]
  },
  {
   "cell_type": "code",
   "execution_count": 42,
   "metadata": {
    "scrolled": true
   },
   "outputs": [
    {
     "data": {},
     "execution_count": 42,
     "metadata": {},
     "output_type": "execute_result"
    }
   ],
   "source": [
    "df[df['Model']=='astra']['VehicleType'].value_counts()"
   ]
  },
  {
   "cell_type": "code",
   "execution_count": 43,
   "metadata": {},
   "outputs": [
    {
     "data": {},
     "execution_count": 43,
     "metadata": {},
     "output_type": "execute_result"
    }
   ],
   "source": [
    "df[df['Model']=='astra']['Gearbox'].value_counts()"
   ]
  },
  {
   "cell_type": "code",
   "execution_count": 44,
   "metadata": {},
   "outputs": [
    {
     "data": {},
     "execution_count": 44,
     "metadata": {},
     "output_type": "execute_result"
    }
   ],
   "source": [
    "df[df['Model']=='astra']['FuelType'].value_counts()"
   ]
  },
  {
   "cell_type": "code",
   "execution_count": 45,
   "metadata": {},
   "outputs": [
    {
     "data": {},
     "execution_count": 45,
     "metadata": {},
     "output_type": "execute_result"
    }
   ],
   "source": [
    "df[df['Model']=='astra']['NotRepaired'].value_counts()"
   ]
  },
  {
   "cell_type": "code",
   "execution_count": 46,
   "metadata": {
    "scrolled": true
   },
   "outputs": [
    {
     "data": {},
     "execution_count": 46,
     "metadata": {},
     "output_type": "execute_result"
    }
   ],
   "source": [
    "df[df['Model']=='astra']"
   ]
  },
  {
   "cell_type": "code",
   "execution_count": 47,
   "metadata": {
    "scrolled": true
   },
   "outputs": [
    {
     "data": {},
     "execution_count": 47,
     "metadata": {},
     "output_type": "execute_result"
    }
   ],
   "source": [
    "df[df['Model']=='passat']['VehicleType'].value_counts()"
   ]
  },
  {
   "cell_type": "code",
   "execution_count": 48,
   "metadata": {},
   "outputs": [
    {
     "data": {},
     "execution_count": 48,
     "metadata": {},
     "output_type": "execute_result"
    }
   ],
   "source": [
    "df[df['Model']=='passat']['Gearbox'].value_counts()"
   ]
  },
  {
   "cell_type": "code",
   "execution_count": 49,
   "metadata": {},
   "outputs": [
    {
     "data": {},
     "execution_count": 49,
     "metadata": {},
     "output_type": "execute_result"
    }
   ],
   "source": [
    "df[df['Model']=='passat']['FuelType'].value_counts()"
   ]
  },
  {
   "cell_type": "code",
   "execution_count": 50,
   "metadata": {},
   "outputs": [
    {
     "data": {},
     "execution_count": 50,
     "metadata": {},
     "output_type": "execute_result"
    }
   ],
   "source": [
    "df[df['Model']=='passat']['NotRepaired'].value_counts()"
   ]
  },
  {
   "cell_type": "code",
   "execution_count": 51,
   "metadata": {
    "scrolled": true
   },
   "outputs": [
    {
     "data": {},
     "execution_count": 51,
     "metadata": {},
     "output_type": "execute_result"
    }
   ],
   "source": [
    "df[df['Model']=='passat']"
   ]
  },
  {
   "cell_type": "markdown",
   "metadata": {},
   "source": [
    "Hasta este punto, podemos observar que en los modelos de autos con el número de datos mayor a 10000 podemos observar que la moda condicional es la misma en todos los casos, por lo quepodemos rellenar el resto de estos datos con estos valores, de igual manera la columna 'NotRepaired' los datos booleanos de si o no, por lo que en este caso podemos sustituir los valores por no."
   ]
  },
  {
   "cell_type": "code",
   "execution_count": 52,
   "metadata": {},
   "outputs": [],
   "source": [
    "df['VehicleType']=df['VehicleType'].fillna('sedan')\n",
    "df['FuelType']=df['FuelType'].fillna('petrol')\n",
    "df['NotRepaired']=df['NotRepaired'].fillna('no')"
   ]
  },
  {
   "cell_type": "code",
   "execution_count": 53,
   "metadata": {},
   "outputs": [
    {
     "data": {},
     "execution_count": 53,
     "metadata": {},
     "output_type": "execute_result"
    }
   ],
   "source": [
    "df.isna().sum()"
   ]
  },
  {
   "cell_type": "markdown",
   "metadata": {},
   "source": [
    "Como podemos observar solamente tenemos datos ausentes en los datos de la columna 'Gearbox', ya que una característica como la caja de velocidades es un factor importante para muchos clientes para poder comprar un vahículo y también para definir el precio del vahículo, por loq ue este factor si sería importante crear una nueva categoría."
   ]
  },
  {
   "cell_type": "code",
   "execution_count": 54,
   "metadata": {},
   "outputs": [
    {
     "data": {},
     "execution_count": 54,
     "metadata": {},
     "output_type": "execute_result"
    }
   ],
   "source": [
    "df['Gearbox'].value_counts()"
   ]
  },
  {
   "cell_type": "code",
   "execution_count": 55,
   "metadata": {
    "scrolled": true
   },
   "outputs": [],
   "source": [
    "df= df.fillna('Unknown')\n",
    "df.info()"
   ]
  },
  {
   "cell_type": "code",
   "execution_count": 56,
   "metadata": {},
   "outputs": [
    {
     "data": {},
     "execution_count": 56,
     "metadata": {},
     "output_type": "execute_result"
    }
   ],
   "source": [
    "df.isna().sum()"
   ]
  },
  {
   "cell_type": "code",
   "execution_count": 57,
   "metadata": {},
   "outputs": [
    {
     "data": {},
     "execution_count": 57,
     "metadata": {},
     "output_type": "execute_result"
    }
   ],
   "source": [
    "df"
   ]
  },
  {
   "cell_type": "code",
   "execution_count": 58,
   "metadata": {
    "scrolled": false
   },
   "outputs": [
    {
     "data": {},
     "execution_count": 58,
     "metadata": {},
     "output_type": "execute_result"
    }
   ],
   "source": [
    "df['VehicleType'].value_counts()"
   ]
  },
  {
   "cell_type": "code",
   "execution_count": 59,
   "metadata": {},
   "outputs": [
    {
     "data": {},
     "execution_count": 59,
     "metadata": {},
     "output_type": "execute_result"
    }
   ],
   "source": [
    "#df['VehicleType']= df['VehicleType'].fillna('NA')\n",
    "df['VehicleType'].value_counts()"
   ]
  },
  {
   "cell_type": "code",
   "execution_count": 60,
   "metadata": {},
   "outputs": [
    {
     "data": {},
     "execution_count": 60,
     "metadata": {},
     "output_type": "execute_result"
    }
   ],
   "source": [
    "#df['Gearbox']= df['Gearbox'].fillna('NA')\n",
    "df['Gearbox'].value_counts()"
   ]
  },
  {
   "cell_type": "code",
   "execution_count": 61,
   "metadata": {},
   "outputs": [
    {
     "data": {},
     "execution_count": 61,
     "metadata": {},
     "output_type": "execute_result"
    }
   ],
   "source": [
    "#df['VehicleType']= df['VehicleType'].fillna('NA')\n",
    "df['Model'].value_counts()"
   ]
  },
  {
   "cell_type": "code",
   "execution_count": 62,
   "metadata": {},
   "outputs": [
    {
     "data": {},
     "execution_count": 62,
     "metadata": {},
     "output_type": "execute_result"
    }
   ],
   "source": [
    "#df['VehicleType']= df['VehicleType'].fillna('NA')\n",
    "df['NotRepaired'].value_counts()"
   ]
  },
  {
   "cell_type": "code",
   "execution_count": 63,
   "metadata": {},
   "outputs": [
    {
     "data": {},
     "execution_count": 63,
     "metadata": {},
     "output_type": "execute_result"
    }
   ],
   "source": [
    "# Verificamos que no hayan datos duplicados \n",
    "\n",
    "df.duplicated().sum()"
   ]
  },
  {
   "cell_type": "code",
   "execution_count": 64,
   "metadata": {},
   "outputs": [],
   "source": [
    "df= df.drop_duplicates().reset_index(drop=True)\n",
    "df.info()"
   ]
  },
  {
   "cell_type": "code",
   "execution_count": 65,
   "metadata": {},
   "outputs": [
    {
     "data": {},
     "execution_count": 65,
     "metadata": {},
     "output_type": "execute_result"
    }
   ],
   "source": [
    "# Cambiamos el tipo de datos de las fechas de la columna 'DateCrawled' al tipo datetime\n",
    "\n",
    "df['DateCrawled']=pd.to_datetime(df['DateCrawled'],format= '%d/%m/%Y %H:%M')\n",
    "df['DateCreated']=pd.to_datetime(df['DateCreated'],format= '%d/%m/%Y %H:%M')\n",
    "df['LastSeen']=pd.to_datetime(df['LastSeen'],format= '%d/%m/%Y %H:%M')\n",
    "df.head()"
   ]
  },
  {
   "cell_type": "code",
   "execution_count": 66,
   "metadata": {},
   "outputs": [
    {
     "data": {},
     "execution_count": 66,
     "metadata": {},
     "output_type": "execute_result"
    }
   ],
   "source": [
    "df_ohe = pd.get_dummies(df.drop(columns = ['Model'], axis=1), drop_first=True)\n",
    "df_ohe.head()"
   ]
  },
  {
   "cell_type": "code",
   "execution_count": 67,
   "metadata": {},
   "outputs": [],
   "source": [
    "df_ohe.info()"
   ]
  },
  {
   "cell_type": "markdown",
   "metadata": {},
   "source": [
    "Se cambió el tipo de datos de las fechas a datetime, se elimnaron datos duplicados, por lo que con este tratamiento se considera ya están listos para realizar el análisis y operaciones para el proyecto."
   ]
  },
  {
   "cell_type": "code",
   "execution_count": 68,
   "metadata": {
    "scrolled": true
   },
   "outputs": [
    {
     "data": {},
     "execution_count": 68,
     "metadata": {},
     "output_type": "execute_result"
    }
   ],
   "source": [
    "df_ohe.describe()"
   ]
  },
  {
   "cell_type": "markdown",
   "metadata": {},
   "source": [
    "Podemo sobservar que en la columna de precios, a;os de registro, potencia y año de registro, en donde se observan datos inconcistentes y atípicos."
   ]
  },
  {
   "cell_type": "code",
   "execution_count": 69,
   "metadata": {},
   "outputs": [
    {
     "data": {},
     "execution_count": 69,
     "metadata": {},
     "output_type": "execute_result"
    },
    {
     "data": {
      "image/png": "[encoded data removed]"
     },
     "metadata": {},
     "output_type": "display_data"
    }
   ],
   "source": [
    "\n",
    "df.boxplot(figsize=(20,10))"
   ]
  },
  {
   "cell_type": "code",
   "execution_count": 70,
   "metadata": {},
   "outputs": [],
   "source": [
    "\n",
    "def down_limit(data):\n",
    "    q1=data.quantile(0.25)\n",
    "    q3=data.quantile(0.75)\n",
    "    iqr= q3-q1\n",
    "    down= q1-(1.5*iqr)\n",
    "    return down\n",
    "    \n",
    "def up_limit(data):\n",
    "    q1=data.quantile(0.25)\n",
    "    q3=data.quantile(0.75)\n",
    "    iqr= q3-q1\n",
    "    up= q3+(1.5*iqr)\n",
    "    return up   "
   ]
  },
  {
   "cell_type": "code",
   "execution_count": 71,
   "metadata": {},
   "outputs": [
    {
     "data": {},
     "execution_count": 71,
     "metadata": {},
     "output_type": "execute_result"
    }
   ],
   "source": [
    "down_limit(df_ohe['Price'])"
   ]
  },
  {
   "cell_type": "markdown",
   "metadata": {},
   "source": [
    "Se considera utilizar métricas  estadísticas para eliminar los datos atípicos e inconcistentes, sin embargo, en el caso de Precios los valores acptados inlcuyen los precios de 0 euros, ya que un auto no puede tener un precio de 0 euros. Sin embargo, buscando en internet se comenzaron a entrar venta de autos a partir de los 400 euros, por lo que se considera un precio medio de esto que será 200 euros, con la intensión de perder la menor cantidad de datos."
   ]
  },
  {
   "cell_type": "code",
   "execution_count": 72,
   "metadata": {},
   "outputs": [
    {
     "data": {},
     "execution_count": 72,
     "metadata": {},
     "output_type": "execute_result"
    }
   ],
   "source": [
    "df_ohe[df_ohe['Price']<200]"
   ]
  },
  {
   "cell_type": "code",
   "execution_count": 73,
   "metadata": {},
   "outputs": [
    {
     "data": {},
     "execution_count": 73,
     "metadata": {},
     "output_type": "execute_result"
    }
   ],
   "source": [
    "df_ohe[df_ohe['Price']<=400]['Price'].value_counts()"
   ]
  },
  {
   "cell_type": "code",
   "execution_count": 74,
   "metadata": {},
   "outputs": [
    {
     "data": {},
     "execution_count": 74,
     "metadata": {},
     "output_type": "execute_result"
    }
   ],
   "source": [
    "df_ohe[df_ohe['Price']<=100]['Price'].value_counts()"
   ]
  },
  {
   "cell_type": "code",
   "execution_count": 75,
   "metadata": {},
   "outputs": [
    {
     "data": {},
     "execution_count": 75,
     "metadata": {},
     "output_type": "execute_result"
    }
   ],
   "source": [
    "down_limit(df_ohe['Power'])"
   ]
  },
  {
   "cell_type": "code",
   "execution_count": 76,
   "metadata": {},
   "outputs": [
    {
     "data": {},
     "execution_count": 76,
     "metadata": {},
     "output_type": "execute_result"
    }
   ],
   "source": [
    "df_ohe[df_ohe['Power']<df_ohe['Power'].quantile(0.25)]"
   ]
  },
  {
   "cell_type": "code",
   "execution_count": 77,
   "metadata": {},
   "outputs": [
    {
     "data": {},
     "execution_count": 77,
     "metadata": {},
     "output_type": "execute_result"
    }
   ],
   "source": [
    "df_ohe[df_ohe['Power']<=df_ohe['Power'].quantile(0.25)]['Power'].value_counts().head(50)"
   ]
  },
  {
   "cell_type": "markdown",
   "metadata": {},
   "source": [
    "Podemos observa que la potencia tiene valores de cero lo cual nos indica que no podemos vender un auto con esta potencia, aparte que analizando los datos, podemos observar que los autos reportados en los datos con potencia 0 es de 40 mil y si ponemos como lkímite inferior el primer cuartil, ódemos observar que se perdería 88 mil datos, sin embargo, se ha encontrado que algunos autos pequeños pueden llegar a tener hasta 40 CV, por lo que utilizaremos este valor como límite inferior "
   ]
  },
  {
   "cell_type": "code",
   "execution_count": 78,
   "metadata": {},
   "outputs": [
    {
     "data": {},
     "execution_count": 78,
     "metadata": {},
     "output_type": "execute_result"
    }
   ],
   "source": [
    "df_ohe[df_ohe['Power']<40]"
   ]
  },
  {
   "cell_type": "code",
   "execution_count": 80,
   "metadata": {},
   "outputs": [],
   "source": [
    "# Se eliminan los datos atípicos\n",
    "\n",
    "df_ohe=df_ohe[\n",
    "    (200 <= df_ohe['Price'])\n",
    "    & (df_ohe['Price'] <= up_limit(df_ohe['Price']))\n",
    "    & (down_limit(df_ohe['RegistrationYear']) <= df_ohe['RegistrationYear'])\n",
    "    & (df_ohe['RegistrationYear'] <= up_limit(df_ohe['RegistrationYear']))\n",
    "    &(40 <= df_ohe['Power'])\n",
    "    & (df_ohe['Power'] <= up_limit(df_ohe['Power']))\n",
    "    &(1 <= df_ohe['RegistrationMonth'])\n",
    "    & (df_ohe['RegistrationMonth'] <= 12) \n",
    "]"
   ]
  },
  {
   "cell_type": "markdown",
   "metadata": {},
   "source": [
    "/Users/carlosortiz/Documents/bases"
   ]
  },
  {
   "cell_type": "code",
   "execution_count": 81,
   "metadata": {
    "scrolled": true
   },
   "outputs": [
    {
     "data": {},
     "execution_count": 81,
     "metadata": {},
     "output_type": "execute_result"
    }
   ],
   "source": [
    "df_ohe"
   ]
  },
  {
   "cell_type": "code",
   "execution_count": 82,
   "metadata": {
    "scrolled": false
   },
   "outputs": [
    {
     "data": {},
     "execution_count": 82,
     "metadata": {},
     "output_type": "execute_result"
    }
   ],
   "source": [
    "df_ohe.describe()"
   ]
  },
  {
   "cell_type": "code",
   "execution_count": 83,
   "metadata": {},
   "outputs": [],
   "source": [
    "df_ohe.info()"
   ]
  },
  {
   "cell_type": "markdown",
   "metadata": {},
   "source": [
    "[Regresar a contenido](#back)"
   ]
  },
  {
   "cell_type": "markdown",
   "metadata": {},
   "source": [
    "## 2. Entrenamiento del modelo <a id='trainning'></a>"
   ]
  },
  {
   "cell_type": "code",
   "execution_count": 84,
   "metadata": {},
   "outputs": [],
   "source": [
    "# Se establecen las variables de features y target\n",
    "features = df_ohe.drop(['Price', 'DateCrawled', 'DateCreated', 'LastSeen'], axis=1)\n",
    "target = df_ohe['Price']"
   ]
  },
  {
   "cell_type": "code",
   "execution_count": 85,
   "metadata": {},
   "outputs": [],
   "source": [
    "# Se separan los datos en los tres grupos : entrenamiento, validación y prueba\n",
    "\n",
    "features_train, features_valid, target_train, target_valid = train_test_split(\n",
    "    features, target, test_size=0.3, random_state=12345)\n"
   ]
  },
  {
   "cell_type": "code",
   "execution_count": 86,
   "metadata": {},
   "outputs": [],
   "source": [
    "# Se prueba elmodelo de ábol de decisión\n",
    "\n",
    "for depth_tree in range (8,15):\n",
    "    model_tree_train= DecisionTreeRegressor(max_depth=depth_tree, random_state=12345)\n",
    "    model_tree_train.fit(features_train, target_train)\n",
    "\n",
    "    predictions_valid_tree_train = model_tree_train.predict(features_valid)\n",
    "    \n",
    "    mse_tree_train = mean_squared_error(target_valid, predictions_valid_tree_train)\n",
    "    rmse_tree_train = mse_tree_train**0.5\n",
    "\n",
    "    r2_tree_train =r2_score(target_valid, predictions_valid_tree_train)\n",
    "\n",
    "    eam_tree_train= mean_absolute_error(target_valid, predictions_valid_tree_train)\n",
    "\n",
    "    print('Depth', depth_tree, ', RMSE= ', rmse_tree_train, ', R2= ', r2_tree_train, ', EAM= ', eam_tree_train )\n",
    "\n",
    "    "
   ]
  },
  {
   "cell_type": "code",
   "execution_count": 87,
   "metadata": {},
   "outputs": [],
   "source": [
    "# Se prueba el modelo de bosque aleatorio\n",
    "\n",
    "for depth_forest in range (18,22):\n",
    "    model_forest_train= RandomForestRegressor(n_estimators=20, max_depth=depth_forest, random_state=12345)\n",
    "    model_forest_train.fit(features_train, target_train)\n",
    "\n",
    "    predictions_valid_forest_train = model_forest_train.predict(features_valid)\n",
    "\n",
    "    mse_forest_train = mean_squared_error(target_valid, predictions_valid_forest_train)\n",
    "    rmse_forest_train = mse_forest_train**0.5\n",
    "\n",
    "    r2_forest_train=r2_score(target_valid, predictions_valid_forest_train)\n",
    "\n",
    "    eam_forest_train= mean_absolute_error(target_valid, predictions_valid_forest_train)\n",
    "\n",
    "    print('Depth', depth_forest, ', RMSE= ', rmse_forest_train, ', R2= ', r2_forest_train, ', EAM= ', eam_forest_train )\n",
    "\n",
    "\n"
   ]
  },
  {
   "cell_type": "code",
   "execution_count": null,
   "metadata": {},
   "outputs": [],
   "source": [
    "# Se prueba el modelo de regresion lineal\n",
    "\n",
    "model_lineal = LinearRegression()\n",
    "\n",
    "model_lineal.fit(features_train, target_train)\n",
    "\n",
    "predictions_valid_lineal = model_lineal.predict(features_valid)\n",
    "\n",
    "mse_lineal = mean_squared_error(target_valid, predictions_valid_lineal)\n",
    "rmse_lineal = mse_lineal**0.5\n",
    "\n",
    "r2_lineal=r2_score(target_valid, predictions_valid_lineal)\n",
    "\n",
    "eam_lineal= mean_absolute_error(target_valid, predictions_valid_lineal)\n",
    "\n",
    "print( 'RMSE= ', rmse_lineal, ', R2= ', r2_lineal, ', EAM= ', eam_lineal )"
   ]
  },
  {
   "cell_type": "code",
   "execution_count": null,
   "metadata": {},
   "outputs": [],
   "source": [
    "# Se prueba el modelo de LightGBM \n",
    "\n",
    "best_mse_clf =10000\n",
    "best_leaves_clf = 0\n",
    "best_msg_clf = 0\n",
    "best_rmse_clf = 0\n",
    "best_r2_clf = 0\n",
    "best_eam_clf = 0\n",
    "\n",
    "for leaves_clf in range (90,100):\n",
    "    \n",
    "    for msg_clf in range (0,10):\n",
    "\n",
    "        model_clf_train = lgb.LGBMRegressor(num_leaves =leaves_clf , min_split_gain = msg_clf)\n",
    "        model_clf_train.fit(features_train, target_train)\n",
    "\n",
    "        valid_pred_clf_train=model_clf_train.predict(features_valid)\n",
    "\n",
    "\n",
    "        mse_clf_train = mean_squared_error(target_valid, valid_pred_clf_train)\n",
    "        rmse_clf_train = mse_clf_train**0.5\n",
    "\n",
    "        r2_clf_train=r2_score(target_valid, valid_pred_clf_train)\n",
    "\n",
    "        eam_clf_train= mean_absolute_error(target_valid, valid_pred_clf_train)\n",
    "\n",
    "        if mse_clf_train < best_mse_clf :\n",
    "            best_leaves_clf = leaves_clf\n",
    "            best_msg_clf = msg_clf\n",
    "            best_rmse_clf = rmse_clf_train\n",
    "            best_r2_clf = r2_clf_train\n",
    "            best_eam_clf = eam_clf_train\n",
    "            \n",
    "print('Para LightGBM, los mejores parámetros son Leaves=', leaves_clf , ', min_split_gain=', msg_clf ,', RMSE es: ', rmse_clf_train, ', R2 =', r2_clf_train, ', EAM =', eam_clf_train )"
   ]
  },
  {
   "cell_type": "code",
   "execution_count": null,
   "metadata": {},
   "outputs": [],
   "source": [
    "# Se prueba el modelo de XGBoost\n",
    "\n",
    "best_mse_xg =10000\n",
    "best_rmse_xg = 0\n",
    "best_estimators_xg = 0\n",
    "best_seed_xg = 0\n",
    "best_rmse_xg = 0\n",
    "best_eam_xg = 0\n",
    "\n",
    "for estimators_xg in range (80,100):\n",
    "    \n",
    "    for seed_xg in range (1,10):\n",
    "\n",
    "        model_xg_train= xg.XGBRegressor(n_estimators= estimators_xg, seed= seed_xg)\n",
    "\n",
    "        model_xg_train.fit(features_train, target_train)\n",
    "\n",
    "        valid_pred_xg_train=model_xg_train.predict(features_valid)\n",
    "\n",
    "\n",
    "        mse_xg_train = mean_squared_error(target_valid, valid_pred_xg_train)\n",
    "        rmse_xg_train = mse_xg_train**0.5\n",
    "\n",
    "        r2_xg_train=r2_score(target_valid, valid_pred_xg_train)\n",
    "\n",
    "        eam_xg_train= mean_absolute_error(target_valid, valid_pred_xg_train)\n",
    "\n",
    "        if mse_xg_train < best_mse_xg :\n",
    "            best_rmse_xg = rmse_xg_train\n",
    "            best_estimators_xg = leaves_clf\n",
    "            best_seed_xg = msg_clf\n",
    "            best_rmse_xg = rmse_xg_train\n",
    "            best_eam_xg = r2_xg_train\n",
    "\n",
    "print('Para XGBoost, los mejores parámetros son n_estimators=', estimators_xg , ', seed=', seed_xg,', RMSE es: ', rmse_xg_train, ', R2 =', r2_xg_train, ', EAM =', eam_xg_train )\n"
   ]
  },
  {
   "cell_type": "code",
   "execution_count": null,
   "metadata": {},
   "outputs": [],
   "source": [
    "# Se prueba el modelo de CatBoost\n",
    "\n",
    "for iterations_cat in range (480, 500):\n",
    "    model_cat_train = cb.CatBoostRegressor(\n",
    "        loss_function=\"RMSE\", iterations=iterations_cat, random_seed=12345\n",
    "    ) \n",
    "\n",
    "    model_cat_train.fit(features_train, target_train)\n",
    "\n",
    "    pred_valid_cat_train = model_cat_train.predict(features_valid)\n",
    "    pred_valid_cat_train\n",
    "\n",
    "    mse_cat_train = mean_squared_error(target_valid, pred_valid_cat_train)\n",
    "    rmse_cat_train = mse_cat_train**0.5\n",
    "\n",
    "    r2_cat_train=r2_score(target_valid, pred_valid_cat_train)\n",
    "\n",
    "    eam_cat_train= mean_absolute_error(target_valid, pred_valid_cat_train)\n",
    "\n",
    "    print('Para XGBost','iterations= ', iterations_cat, 'RMSE es: ', rmse_cat_train, ', R2 =', r2_cat_train, ', EAM =', eam_cat_train )\n",
    "\n"
   ]
  },
  {
   "cell_type": "markdown",
   "metadata": {},
   "source": [
    "[Regresar a contenido](#back)"
   ]
  },
  {
   "cell_type": "markdown",
   "metadata": {},
   "source": [
    "## 3. Análisis del modelo <a id='analysis'></a>"
   ]
  },
  {
   "cell_type": "code",
   "execution_count": 88,
   "metadata": {},
   "outputs": [],
   "source": [
    "%%time\n",
    "#Se analiza el modelo de ärbol de decisiones con los mejores Hiperparámetros\n",
    "\n",
    "model_tree= DecisionTreeRegressor(max_depth=12, random_state=12345)\n",
    "model_tree.fit(features_train, target_train)\n",
    "\n",
    "predictions_valid_tree = model_tree.predict(features_valid)\n",
    "    \n",
    "mse_tree = mean_squared_error(target_valid, predictions_valid_tree)\n",
    "rmse_tree = mse_tree**0.5\n",
    "\n",
    "r2_tree=r2_score(target_valid, predictions_valid_tree)\n",
    "\n",
    "eam_tree= mean_absolute_error(target_valid, predictions_valid_tree)\n",
    "\n",
    "print( 'RMSE= ', rmse_tree, ', R2= ', r2_tree, ', EAM= ', eam_tree )"
   ]
  },
  {
   "cell_type": "code",
   "execution_count": 89,
   "metadata": {},
   "outputs": [],
   "source": [
    "%%time\n",
    "# Se analiza el modelo de bosque aleatorio con los mejores hiperpaámetros\n",
    "\n",
    "model_forest= RandomForestRegressor(n_estimators=20, max_depth=20, random_state=12345)\n",
    "model_forest.fit(features_train, target_train)\n",
    "\n",
    "predictions_valid_forest = model_forest.predict(features_valid)\n",
    "\n",
    "mse_forest = mean_squared_error(target_valid, predictions_valid_forest)\n",
    "rmse_forest = mse_forest**0.5\n",
    "\n",
    "r2_forest=r2_score(target_valid, predictions_valid_forest)\n",
    "\n",
    "eam_forest= mean_absolute_error(target_valid, predictions_valid_forest)\n",
    "\n",
    "print(', RMSE= ', rmse_forest, ', R2= ', r2_forest, ', EAM= ', eam_forest )"
   ]
  },
  {
   "cell_type": "code",
   "execution_count": 90,
   "metadata": {},
   "outputs": [],
   "source": [
    "%%time\n",
    "# Se analiza el modelo de Regresión Lineal \n",
    "\n",
    "model_lineal = LinearRegression()\n",
    "\n",
    "model_lineal.fit(features_train, target_train)\n",
    "\n",
    "predictions_valid_lineal = model_lineal.predict(features_valid)\n",
    "\n",
    "mse_lineal = mean_squared_error(target_valid, predictions_valid_lineal)\n",
    "rmse_lineal = mse_lineal**0.5\n",
    "\n",
    "r2_lineal=r2_score(target_valid, predictions_valid_lineal)\n",
    "\n",
    "eam_lineal= mean_absolute_error(target_valid, predictions_valid_lineal)\n",
    "\n",
    "print( 'RMSE= ', rmse_lineal, ', R2= ', r2_lineal, ', EAM= ', eam_lineal )"
   ]
  },
  {
   "cell_type": "code",
   "execution_count": 91,
   "metadata": {},
   "outputs": [],
   "source": [
    "%%time\n",
    "# Se analiza el modelo de LightGBM \n",
    "\n",
    "model_clf = lgb.LGBMRegressor(num_leaves =99 , min_split_gain = 9)\n",
    "model_clf.fit(features_train, target_train)\n",
    "\n",
    "valid_pred_lgb=model_clf.predict(features_valid)\n",
    "\n",
    "\n",
    "mse_lgb = mean_squared_error(target_valid, valid_pred_lgb)\n",
    "rmse_lgb = mse_lgb**0.5\n",
    "\n",
    "r2_lgb=r2_score(target_valid, valid_pred_lgb)\n",
    "\n",
    "eam_lgb= mean_absolute_error(target_valid, valid_pred_lgb)\n",
    "\n",
    "print('Para LightGBM RMSE es: ', rmse_lgb, ', R2 =', r2_lgb, ', EAM =', eam_lgb )"
   ]
  },
  {
   "cell_type": "code",
   "execution_count": 92,
   "metadata": {},
   "outputs": [],
   "source": [
    "%%time\n",
    "# Se analiza el modelo de XGBoost \n",
    "\n",
    "model_xg= xg.XGBRegressor(n_estimators= 99, seed= 9)\n",
    "\n",
    "model_xg.fit(features_train, target_train)\n",
    "\n",
    "valid_pred_xg=model_xg.predict(features_valid)\n",
    "\n",
    "\n",
    "mse_xg = mean_squared_error(target_valid, valid_pred_xg)\n",
    "rmse_xg = mse_xg**0.5\n",
    "\n",
    "r2_xg=r2_score(target_valid, valid_pred_xg)\n",
    "\n",
    "eam_xg= mean_absolute_error(target_valid, valid_pred_xg)\n",
    "\n",
    "print('Para XGBoost RMSE es: ', rmse_xg, ', R2 =', r2_xg, ', EAM =', eam_xg )"
   ]
  },
  {
   "cell_type": "code",
   "execution_count": 93,
   "metadata": {},
   "outputs": [],
   "source": [
    "%%time\n",
    "# Se analiza el modelo de CatBoost \n",
    "\n",
    "model_cat = cb.CatBoostRegressor(loss_function=\"RMSE\", iterations=500, random_seed=12345) \n",
    "\n",
    "model_cat.fit(features_train, target_train)\n",
    "\n",
    "pred_valid_cat = model_cat.predict(features_valid)\n",
    "\n",
    "mse_cat = mean_squared_error(target_valid, pred_valid_cat)\n",
    "rmse_cat = mse_cat**0.5\n",
    "\n",
    "r2_cat=r2_score(target_valid, pred_valid_cat)\n",
    "\n",
    "eam_cat= mean_absolute_error(target_valid, pred_valid_cat)\n",
    "\n",
    "print('Para CatBost', 'RMSE es: ', rmse_cat, ', R2 =', r2_cat, ', EAM =', eam_cat )"
   ]
  },
  {
   "cell_type": "markdown",
   "metadata": {},
   "source": [
    "[Regresar a contenido](#back)"
   ]
  },
  {
   "cell_type": "markdown",
   "metadata": {},
   "source": [
    "## Conclusión <a id='end'></a>"
   ]
  },
  {
   "cell_type": "markdown",
   "metadata": {},
   "source": [
    "Como podemo sobservar, inicialmente se tuvoq ue revisar los dtos cn lo que ibamos a trabajar, en donde pudimos observar que en varias colunas había presecia de datos ausentes, estos datos eran del tipo str y se apreció que se trataba de datos categóricos, por lo que diseño una estrategia donde se creó una nueva categoría para dar a conocer los datos que no se conocen. se revisó datos duplicados y se cambiolos tipos a los correctos en el caso de las fechas.\n",
    "\n",
    "Se entrenó diferentes modelos de árbol de desiciones, bosque aleatorio y regresión lineal, al igual que se entrenaron los modelo sde potenciación LightGBM, CatBoost y XGBoost, en donde se probaron algunos hiperpaámetros en estos modelos para poder probar su eficiencia el realizar las predicciones de los precios de los automóviles.\n",
    "\n",
    "Se puede observar que de los tres modelos principales el de de bosque aleatoreo el que tiene mejores predicciones, basandonos en las métricas de calidad,sin embargo, de esos tres es el más tradado.\n",
    "\n",
    "Mientras que de los métodos de potenciación de gradiente, se puede observar que el que tiene mejores predicciones es el modelo de LightGBM y CatBoost, basandonos en la métricas de calidad, sin embargo la diferencia no es significativa, sin embargo, LightGBM es más rápido para  realizar los calculos de potenciación.\n",
    "\n",
    "En comparación los modelos clasicos cn los de potenciación, no hay mucha diferencia y se obtienen resultados similares.\n",
    "\n",
    "[Regresar a contenido](#back)"
   ]
  }
 ],
 "metadata": {
  "kernelspec": {
   "display_name": "Python 3 (ipykernel)",
   "language": "python",
   "name": "python3"
  },
  "language_info": {
   "codemirror_mode": {
    "name": "ipython",
    "version": 3
   },
   "file_extension": ".py",
   "mimetype": "text/x-python",
   "name": "python",
   "nbconvert_exporter": "python",
   "pygments_lexer": "ipython3",
   "version": "3.9.5"
  },
  "toc": {
   "base_numbering": 1,
   "nav_menu": {},
   "number_sections": true,
   "sideBar": true,
   "skip_h1_title": true,
   "title_cell": "Table of Contents",
   "title_sidebar": "Contents",
   "toc_cell": false,
   "toc_position": {},
   "toc_section_display": true,
   "toc_window_display": false
  }
 },
 "nbformat": 4,
 "nbformat_minor": 2
}
